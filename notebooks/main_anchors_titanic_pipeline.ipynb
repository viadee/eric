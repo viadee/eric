{
 "cells": [
  {
   "cell_type": "markdown",
   "metadata": {},
   "source": [
    "# Anchor explanations on the Iris dataset"
   ]
  },
  {
   "cell_type": "code",
   "execution_count": 1,
   "metadata": {},
   "outputs": [],
   "source": [
    "import numpy as np\n",
    "from sklearn.datasets import load_iris\n",
    "from sklearn.ensemble import RandomForestClassifier\n",
    "from alibi.explainers import AnchorTabular\n",
    "import pandas as pd \n",
    "from sklearn.model_selection import train_test_split\n",
    "from sklearn import svm\n",
    "from sklearn import metrics\n",
    "from sklearn.pipeline import Pipeline\n",
    "from sklearn.preprocessing import MinMaxScaler, OneHotEncoder\n",
    "from sklearn.compose import ColumnTransformer\n",
    "from sklearn.metrics import accuracy_score"
   ]
  },
  {
   "cell_type": "code",
   "execution_count": 2,
   "metadata": {},
   "outputs": [],
   "source": [
    "data = pd.read_csv('titanic.csv')\n",
    "data.rename(columns={'Survived': 'class'}, inplace=True)\n",
    "data['Sex'] = data['Sex'].map({'male':'Male','female':'Female'})\n",
    "data['Embarked'] = data['Embarked'].map({'S':'Southampton','C':'Cherbourg','Q':'Queenstown'})\n",
    "data['Pclass'] = data['Pclass'].map({1:'First', 2:'Second', 3:'Third'})\n",
    "data['Relatives'] = data['SibSp'] + data['Parch']\n",
    "\n",
    "data = data.drop(['PassengerId', 'Name','Ticket','Cabin', 'SibSp', 'Parch'], axis=1)\n",
    "data = data.dropna()\n",
    "\n",
    "f = ['Pclass', 'Sex', 'Age', 'Fare', 'Embarked', 'Relatives']\n",
    "\n",
    "features = data.drop('class', axis=1)\n",
    "#print(features)\n",
    "\n",
    "training_features, testing_features, training_target, testing_target = \\\n",
    "    train_test_split(features, data['class'].values, random_state=None)"
   ]
  },
  {
   "cell_type": "code",
   "execution_count": 4,
   "metadata": {},
   "outputs": [
    {
     "output_type": "stream",
     "name": "stdout",
     "text": "Pclass     Sex   Age      Fare     Embarked  Relatives\n483   Third  Female  63.0    9.5875  Southampton          0\n688   Third    Male  18.0    7.7958  Southampton          0\n336   First    Male  29.0   66.6000  Southampton          1\n676   Third    Male  24.5    8.0500  Southampton          0\n856   First  Female  45.0  164.8667  Southampton          2\n..      ...     ...   ...       ...          ...        ...\n757  Second    Male  18.0   11.5000  Southampton          0\n104   Third    Male  37.0    7.9250  Southampton          2\n155   First    Male  51.0   61.3792    Cherbourg          1\n640   Third    Male  20.0    7.8542  Southampton          0\n714  Second    Male  52.0   13.0000  Southampton          0\n\n[534 rows x 6 columns]\n"
    }
   ],
   "source": [
    "print(training_features)"
   ]
  },
  {
   "cell_type": "code",
   "execution_count": 5,
   "metadata": {},
   "outputs": [],
   "source": [
    "numeric_features = ['Age', 'Fare', 'Relatives']\n",
    "numeric_transformer = Pipeline(steps=[\n",
    "    ('scaler', MinMaxScaler())])\n",
    "\n",
    "categorical_features = ['Pclass', 'Sex', 'Embarked']\n",
    "categorical_transformer = Pipeline(steps=[\n",
    "    ('onehot', OneHotEncoder(handle_unknown='ignore'))])\n",
    "\n",
    "preprocessor = ColumnTransformer(\n",
    "    transformers=[\n",
    "        ('num', numeric_transformer, numeric_features),\n",
    "        ('cat', categorical_transformer, categorical_features)])"
   ]
  },
  {
   "cell_type": "code",
   "execution_count": 7,
   "metadata": {},
   "outputs": [],
   "source": [
    "model = Pipeline(steps=[('preprocessor', preprocessor),\n",
    "('classifier', svm.SVC(probability=True))])"
   ]
  },
  {
   "cell_type": "code",
   "execution_count": 8,
   "metadata": {},
   "outputs": [
    {
     "output_type": "execute_result",
     "data": {
      "text/plain": "Pipeline(memory=None,\n         steps=[('preprocessor',\n                 ColumnTransformer(n_jobs=None, remainder='drop',\n                                   sparse_threshold=0.3,\n                                   transformer_weights=None,\n                                   transformers=[('num',\n                                                  Pipeline(memory=None,\n                                                           steps=[('scaler',\n                                                                   MinMaxScaler(copy=True,\n                                                                                feature_range=(0,\n                                                                                               1)))],\n                                                           verbose=False),\n                                                  ['Age', 'Fare', 'Relatives']),\n                                                 ('cat',\n                                                  Pipeline(memory=None,\n                                                           steps=[('onehot',\n                                                                   OneHotEncoder(catego...\n                                                                                 handle_unknown='ignore',\n                                                                                 sparse=True))],\n                                                           verbose=False),\n                                                  ['Pclass', 'Sex',\n                                                   'Embarked'])],\n                                   verbose=False)),\n                ('classifier',\n                 SVC(C=1.0, break_ties=False, cache_size=200, class_weight=None,\n                     coef0=0.0, decision_function_shape='ovr', degree=3,\n                     gamma='scale', kernel='rbf', max_iter=-1, probability=True,\n                     random_state=None, shrinking=True, tol=0.001,\n                     verbose=False))],\n         verbose=False)"
     },
     "metadata": {},
     "execution_count": 8
    }
   ],
   "source": [
    "model.fit(training_features, training_target)"
   ]
  },
  {
   "cell_type": "code",
   "execution_count": 9,
   "metadata": {},
   "outputs": [
    {
     "output_type": "stream",
     "name": "stdout",
     "text": "XGB 0.7921348314606742\n"
    }
   ],
   "source": [
    "print(\"XGB {}\".format(accuracy_score(testing_target, model.predict(testing_features))))"
   ]
  },
  {
   "cell_type": "code",
   "execution_count": 10,
   "metadata": {},
   "outputs": [],
   "source": [
    "def adapter(x):\n",
    "    d = pd.DataFrame(data=x, columns = f)\n",
    "    d['Sex'] = d['Sex'].map({0:'Male', 1: 'Female'})\n",
    "    d['Embarked'] = d['Embarked'].map({0: 'Southampton', 1: 'Cherbourg', 2: 'Queenstown'})\n",
    "    d['Pclass'] = d['Pclass'].map({0: 'First', 1: 'Second', 2: 'Third'})\n",
    "    return d"
   ]
  },
  {
   "cell_type": "code",
   "execution_count": 11,
   "metadata": {},
   "outputs": [],
   "source": [
    "def reverse_adapter(p):\n",
    "    d = p.copy()\n",
    "    d['Sex'] = d['Sex'].map({'Male': 0, 'Female': 1})\n",
    "    d['Embarked'] = d['Embarked'].map({'Southampton': 0, 'Cherbourg': 1, 'Queenstown': 2})\n",
    "    d['Pclass'] = d['Pclass'].map({'First': 0, 'Second': 1, 'Third': 2})\n",
    "    n = d.to_numpy().astype(np.float)\n",
    "    return(n)"
   ]
  },
  {
   "cell_type": "code",
   "execution_count": 12,
   "metadata": {},
   "outputs": [],
   "source": [
    "#predict_fn = lambda x: model.predict_proba(adapter(x))\n",
    "predict_fn = lambda x: model.predict(adapter(x))\n",
    "#predict_fn = lambda x: model.predict_proba(pd.DataFrame(data=x, columns = f))"
   ]
  },
  {
   "cell_type": "code",
   "execution_count": 13,
   "metadata": {},
   "outputs": [
    {
     "output_type": "execute_result",
     "data": {
      "text/plain": "  Pclass   Sex   Age  Fare     Embarked  Relatives\n0  Third  Male  47.0  7.25  Southampton        0.0",
      "text/html": "<div>\n<style scoped>\n    .dataframe tbody tr th:only-of-type {\n        vertical-align: middle;\n    }\n\n    .dataframe tbody tr th {\n        vertical-align: top;\n    }\n\n    .dataframe thead th {\n        text-align: right;\n    }\n</style>\n<table border=\"1\" class=\"dataframe\">\n  <thead>\n    <tr style=\"text-align: right;\">\n      <th></th>\n      <th>Pclass</th>\n      <th>Sex</th>\n      <th>Age</th>\n      <th>Fare</th>\n      <th>Embarked</th>\n      <th>Relatives</th>\n    </tr>\n  </thead>\n  <tbody>\n    <tr>\n      <th>0</th>\n      <td>Third</td>\n      <td>Male</td>\n      <td>47.0</td>\n      <td>7.25</td>\n      <td>Southampton</td>\n      <td>0.0</td>\n    </tr>\n  </tbody>\n</table>\n</div>"
     },
     "metadata": {},
     "execution_count": 13
    }
   ],
   "source": [
    "adapter(np.array([[2, 0, 47, 7.25, 0, 0]]))"
   ]
  },
  {
   "cell_type": "code",
   "execution_count": 14,
   "metadata": {},
   "outputs": [
    {
     "output_type": "execute_result",
     "data": {
      "text/plain": "array([1])"
     },
     "metadata": {},
     "execution_count": 14
    }
   ],
   "source": [
    "predict_fn(np.array([[1, 1, 47, 7.25, 0, 0]]))"
   ]
  },
  {
   "cell_type": "markdown",
   "metadata": {},
   "source": [
    "### Initialize and fit anchor explainer for tabular data"
   ]
  },
  {
   "cell_type": "code",
   "execution_count": 15,
   "metadata": {},
   "outputs": [],
   "source": [
    "#category_map = {0: [\"1\", \"2\", \"3\"], 1: [\"0\",\"1\"], 4: [\"0\", \"1\", \"2\"]}\n",
    "category_map = {0: ['First', 'Second', 'Third'], 1: ['Male','Female'], 4: ['Southampton', 'Cherbourg', 'Queenstown']} #must start at 0"
   ]
  },
  {
   "cell_type": "code",
   "execution_count": 16,
   "metadata": {},
   "outputs": [],
   "source": [
    "explainer = AnchorTabular(predict_fn, feature_names = f, categorical_names = category_map)"
   ]
  },
  {
   "cell_type": "markdown",
   "metadata": {},
   "source": [
    "Discretize the ordinal features into quartiles"
   ]
  },
  {
   "cell_type": "code",
   "execution_count": 17,
   "metadata": {},
   "outputs": [],
   "source": [
    "anchor_training = reverse_adapter(training_features)\n",
    ""
   ]
  },
  {
   "cell_type": "code",
   "execution_count": 18,
   "metadata": {},
   "outputs": [
    {
     "output_type": "stream",
     "name": "stdout",
     "text": "[[ 2.      1.     63.      9.5875  0.      0.    ]\n [ 2.      0.     18.      7.7958  0.      0.    ]\n [ 0.      0.     29.     66.6     0.      1.    ]\n ...\n [ 0.      0.     51.     61.3792  1.      1.    ]\n [ 2.      0.     20.      7.8542  0.      0.    ]\n [ 1.      0.     52.     13.      0.      0.    ]]\n"
    }
   ],
   "source": [
    "print(anchor_training)"
   ]
  },
  {
   "cell_type": "code",
   "execution_count": 19,
   "metadata": {},
   "outputs": [
    {
     "output_type": "execute_result",
     "data": {
      "text/plain": "AnchorTabular(meta={\n    'name': 'AnchorTabular',\n    'type': ['blackbox'],\n    'explanations': ['local'],\n    'params': {'seed': None, 'disc_perc': [25, 50, 75]}\n})"
     },
     "metadata": {},
     "execution_count": 19
    }
   ],
   "source": [
    "explainer.fit(anchor_training, disc_perc=[25, 50, 75])"
   ]
  },
  {
   "cell_type": "markdown",
   "metadata": {},
   "source": [
    "### Getting an anchor\n",
    "\n",
    "Below, we get an anchor for the prediction of the first observation in the test set. An anchor is a sufficient condition - that is, when the anchor holds, the prediction should be the same as the prediction for this instance."
   ]
  },
  {
   "cell_type": "code",
   "execution_count": 26,
   "metadata": {},
   "outputs": [
    {
     "output_type": "stream",
     "name": "stdout",
     "text": "Explanation(meta={\n    'name': 'AnchorTabular',\n    'type': ['blackbox'],\n    'explanations': ['local'],\n    'params': {\n        'seed': None,\n        'disc_perc': [25, 50, 75],\n        'threshold': 0.9,\n        'delta': 0.1,\n        'tau': 0.01,\n        'batch_size': 2000,\n        'coverage_samples': 10000,\n        'beam_size': 1,\n        'stop_on_first': False,\n        'max_anchor_size': 3,\n        'min_samples_start': 100,\n        'n_covered_ex': 10,\n        'binary_cache_size': 10000,\n        'cache_margin': 1000,\n        'verbose': False,\n        'verbose_every': 1,\n        'kwargs': {}\n    }\n}, data={\n    'anchor': ['Sex = Female', 'Embarked = Cherbourg'],\n    'precision': numpy.float64(1.0),\n    'coverage': numpy.float64(0.36891385767790263),\n    'raw': {\n        'feature': [1, 4],\n        'mean': [numpy.float64(0.5833887595610243), numpy.float64(1.0)],\n        'precision': [numpy.float64(0.5833887595610243), numpy.float64(1.0)],\n        'coverage': [\n            numpy.float64(0.36891385767790263),\n            numpy.float64(0.36891385767790263)\n        ],\n        'examples': [\n            {\n                'covered_true': array([[ 1.    ,  1.    , 30.    , 21.    ,  0.    ,  3.    ],\n       [ 2.    ,  1.    ,  0.75  , 19.2583,  1.    ,  3.    ],\n       [ 1.    ,  1.    , 31.    , 37.0042,  1.    ,  2.    ],\n       [ 0.    ,  1.    , 70.    , 71.    ,  0.    ,  2.    ],\n       [ 1.    ,  1.    , 31.    , 37.0042,  1.    ,  2.    ],\n       [ 1.    ,  1.    , 23.    , 15.0458,  1.    ,  0.    ],\n       [ 1.    ,  1.    , 54.    , 26.    ,  0.    ,  1.    ],\n       [ 1.    ,  1.    , 23.    , 15.0458,  1.    ,  0.    ],\n       [ 2.    ,  1.    ,  4.    , 13.4167,  1.    ,  1.    ],\n       [ 0.    ,  1.    , 42.    , 52.    ,  0.    ,  1.    ]]),\n                'covered_false': array([[ 2.    ,  1.    , 19.    , 10.1708,  0.    ,  0.    ],\n       [ 2.    ,  1.    , 25.    ,  7.775 ,  0.    ,  0.    ],\n       [ 2.    ,  1.    , 50.    ,  8.05  ,  0.    ,  0.    ],\n       [ 2.    ,  1.    , 41.    ,  7.125 ,  0.    ,  0.    ],\n       [ 2.    ,  1.    , 26.    ,  7.8875,  0.    ,  0.    ],\n       [ 2.    ,  1.    , 50.    ,  8.05  ,  0.    ,  0.    ],\n       [ 2.    ,  1.    , 31.    ,  7.8542,  0.    ,  0.    ],\n       [ 2.    ,  1.    , 20.    ,  8.6625,  0.    ,  0.    ],\n       [ 2.    ,  1.    , 28.    , 14.4   ,  0.    ,  2.    ],\n       [ 2.    ,  1.    , 24.    ,  7.05  ,  0.    ,  0.    ]]),\n                'uncovered_true': array([], dtype=float64),\n                'uncovered_false': array([], dtype=float64)\n            },\n            {\n                'covered_true': array([[ 2.    ,  1.    ,  1.    , 11.1333,  1.    ,  2.    ],\n       [ 0.    ,  1.    , 47.    , 38.5   ,  1.    ,  0.    ],\n       [ 0.    ,  1.    , 24.    , 69.3   ,  1.    ,  0.    ],\n       [ 0.    ,  1.    , 47.    , 38.5   ,  1.    ,  0.    ],\n       [ 2.    ,  1.    , 17.    ,  7.0542,  1.    ,  1.    ],\n       [ 1.    ,  1.    , 36.    , 10.5   ,  1.    ,  0.    ],\n       [ 2.    ,  1.    , 19.    ,  7.8792,  1.    ,  0.    ],\n       [ 0.    ,  1.    , 39.    ,  0.    ,  1.    ,  0.    ],\n       [ 1.    ,  1.    , 25.    , 30.    ,  1.    ,  2.    ],\n       [ 1.    ,  1.    , 32.5   , 13.    ,  1.    ,  0.    ]]),\n                'covered_false': array([], shape=(0, 6), dtype=float64),\n                'uncovered_true': array([], dtype=float64),\n                'uncovered_false': array([], dtype=float64)\n            }\n        ],\n        'all_precision': 0,\n        'num_preds': 20000000,\n        'success': True,\n        'names': ['Sex = Female', 'Embarked = Cherbourg'],\n        'prediction': 1,\n        'instance': array([[ 1,  1, 20, 80,  1,  0]])\n    }\n})\nAnchor: Sex = Female AND Embarked = Cherbourg\n"
    }
   ],
   "source": [
    "explanation = explainer.explain(np.array([[1, 1, 20, 80, 1, 0]]), threshold=0.90, max_anchor_size=3, batch_size=2000, tau=0.01)\n",
    "\n",
    "print(explanation)\n",
    "print('Anchor: %s' % (' AND '.join(explanation['data']['anchor'])))\n",
    "#print('Precision: %.2f' % explanation['precision'])\n",
    "#print('Coverage: %.2f' % explanation['coverage'])"
   ]
  },
  {
   "cell_type": "code",
   "execution_count": 28,
   "metadata": {},
   "outputs": [
    {
     "output_type": "stream",
     "name": "stdout",
     "text": "Sex = Female AND Embarked = Cherbourg\n"
    }
   ],
   "source": [
    "\n",
    "rule = \"\"\n",
    "names = explanation['data']['anchor']\n",
    "precision = np.asarray(explanation['raw']['precision'])\n",
    "precision[1:] -= precision[:-1].copy()\n",
    "precision = [ round(elem, 2) for elem in precision.tolist() ] \n",
    "\n",
    "\n",
    "for i in range(0, len(names)):\n",
    "    rule = rule + names[i]\n",
    "    #importance = round(precision[i]/sum(precision)*100,2)\n",
    "\n",
    "    #rule = rule + \" (\" + str(importance) + \"%)\"\n",
    "    if (i < len(names)-1):\n",
    "        rule = rule + \" AND \"\n",
    "print(rule)"
   ]
  },
  {
   "cell_type": "code",
   "execution_count": 107,
   "metadata": {},
   "outputs": [
    {
     "name": "stdout",
     "output_type": "stream",
     "text": "{'names': ['Sex = Male', 'Pclass = Second', 'Embarked = Cherbourg'], 'precision': 0.9298701298701298, 'coverage': 0.0081, 'raw': {'feature': [1, 0, 4], 'mean': [0.8487689038870141, 0.8850762527233116, 0.9298701298701298], 'precision': [0.8487689038870141, 0.8850762527233116, 0.9298701298701298], 'coverage': [0.6342, 0.1357, 0.0081], 'examples': [{'covered': array([[  0.    ,   0.    ,  49.    , 110.8833,   1.    ,   2.    ],\n       [  1.    ,   0.    ,  37.    ,  26.    ,   0.    ,   1.    ],\n       [  2.    ,   0.    ,  40.5   ,  14.5   ,   0.    ,   2.    ],\n       [  1.    ,   0.    ,  34.    ,  32.5   ,   0.    ,   2.    ],\n       [  0.    ,   0.    ,  45.5   ,  28.5   ,   0.    ,   0.    ],\n       [  2.    ,   0.    ,  22.    ,  10.5167,   0.    ,   0.    ],\n       [  2.    ,   0.    ,  24.    ,   7.05  ,   0.    ,   0.    ],\n       [  0.    ,   0.    ,  25.    ,  55.4417,   1.    ,   1.    ],\n       [  2.    ,   0.    ,  41.    ,  20.2125,   0.    ,   2.    ],\n       [  0.    ,   0.    ,  28.    ,  47.1   ,   0.    ,   0.    ]]), 'covered_true': array([[  1.    ,   0.    ,  42.    ,  13.    ,   0.    ,   0.    ],\n       [  0.    ,   0.    ,  49.    , 110.8833,   1.    ,   2.    ],\n       [  2.    ,   0.    ,  19.    ,   7.8792,   2.    ,   0.    ],\n       [  1.    ,   0.    ,  29.    ,  26.    ,   0.    ,   1.    ],\n       [  1.    ,   0.    ,  21.    ,  11.5   ,   0.    ,   1.    ],\n       [  1.    ,   0.    ,  30.    ,  13.    ,   0.    ,   0.    ],\n       [  1.    ,   0.    ,  50.    ,  10.5   ,   0.    ,   0.    ],\n       [  0.    ,   0.    ,  51.    ,  77.9583,   0.    ,   1.    ],\n       [  2.    ,   0.    ,  19.    ,   7.8958,   0.    ,   0.    ],\n       [  2.    ,   0.    ,  35.    ,   8.05  ,   0.    ,   0.    ]]), 'covered_false': array([[  0.    ,   0.    ,  38.    , 227.525 ,   1.    ,   0.    ],\n       [  0.    ,   0.    ,  32.    ,  30.5   ,   1.    ,   0.    ],\n       [  2.    ,   0.    ,   5.    ,  12.475 ,   0.    ,   0.    ],\n       [  0.    ,   0.    ,  26.    ,  30.    ,   1.    ,   0.    ],\n       [  0.    ,   0.    ,  24.    ,  83.1583,   1.    ,   0.    ],\n       [  2.    ,   0.    ,   3.    ,  15.9   ,   0.    ,   2.    ],\n       [  1.    ,   0.    ,   3.    ,  18.75  ,   0.    ,   2.    ],\n       [  0.    ,   0.    ,  36.    ,  26.3875,   0.    ,   0.    ],\n       [  0.    ,   0.    ,  34.    ,  26.55  ,   0.    ,   0.    ],\n       [  0.    ,   0.    ,  42.    , 227.525 ,   1.    ,   0.    ]]), 'uncovered_true': array([], dtype=float64), 'uncovered_false': array([], dtype=float64)}, {'covered': array([[ 1.    ,  0.    ,  5.    , 27.75  ,  0.    ,  3.    ],\n       [ 1.    ,  0.    , 18.    , 13.    ,  0.    ,  2.    ],\n       [ 1.    ,  0.    , 30.    , 13.    ,  0.    ,  0.    ],\n       [ 1.    ,  0.    , 19.    , 10.5   ,  0.    ,  0.    ],\n       [ 1.    ,  0.    , 66.    , 10.5   ,  0.    ,  0.    ],\n       [ 1.    ,  0.    , 44.    , 26.    ,  0.    ,  1.    ],\n       [ 1.    ,  0.    , 19.    , 26.    ,  0.    ,  0.    ],\n       [ 1.    ,  0.    , 28.    , 26.    ,  0.    ,  1.    ],\n       [ 1.    ,  0.    ,  1.    , 39.    ,  0.    ,  3.    ],\n       [ 1.    ,  0.    , 23.    , 13.7917,  1.    ,  0.    ]]), 'covered_true': array([[ 1. ,  0. , 34. , 13. ,  0. ,  0. ],\n       [ 1. ,  0. , 57. , 10.5,  0. ,  0. ],\n       [ 1. ,  0. , 28. , 26. ,  0. ,  1. ],\n       [ 1. ,  0. , 50. , 10.5,  0. ,  0. ],\n       [ 1. ,  0. , 32. , 73.5,  0. ,  2. ],\n       [ 1. ,  0. , 18. , 23. ,  0. ,  1. ],\n       [ 1. ,  0. , 21. , 73.5,  0. ,  2. ],\n       [ 1. ,  0. , 34. , 32.5,  0. ,  2. ],\n       [ 1. ,  0. , 21. , 11.5,  0. ,  1. ],\n       [ 1. ,  0. , 39. , 26. ,  0. ,  0. ]]), 'covered_false': array([[ 1.  ,  0.  ,  3.  , 26.  ,  0.  ,  2.  ],\n       [ 1.  ,  0.  ,  3.  , 26.  ,  0.  ,  2.  ],\n       [ 1.  ,  0.  ,  0.67, 14.5 ,  0.  ,  2.  ],\n       [ 1.  ,  0.  ,  2.  , 26.  ,  0.  ,  2.  ],\n       [ 1.  ,  0.  ,  0.83, 18.75,  0.  ,  2.  ],\n       [ 1.  ,  0.  ,  0.67, 14.5 ,  0.  ,  2.  ],\n       [ 1.  ,  0.  ,  4.  , 23.  ,  0.  ,  2.  ],\n       [ 1.  ,  0.  ,  0.83, 18.75,  0.  ,  2.  ],\n       [ 1.  ,  0.  ,  4.  , 39.  ,  0.  ,  3.  ],\n       [ 1.  ,  0.  ,  4.  , 23.  ,  0.  ,  2.  ]]), 'uncovered_true': array([], dtype=float64), 'uncovered_false': array([], dtype=float64)}, {'covered': array([[  1.    ,   0.    ,  20.    ,   9.5   ,   1.    ,   0.    ],\n       [  1.    ,   0.    ,   3.    ,  41.5792,   1.    ,   3.    ],\n       [  1.    ,   0.    ,  58.    , 113.275 ,   1.    ,   2.    ],\n       [  1.    ,   0.    ,  51.    ,  61.3792,   1.    ,   1.    ],\n       [  1.    ,   0.    ,  40.    , 134.5   ,   1.    ,   2.    ],\n       [  1.    ,   0.    ,  40.    , 153.4625,   1.    ,   0.    ],\n       [  1.    ,   0.    ,  22.    ,   8.05  ,   1.    ,   0.    ],\n       [  1.    ,   0.    ,  22.    ,   7.5208,   1.    ,   0.    ],\n       [  1.    ,   0.    ,  63.    ,  77.9583,   1.    ,   1.    ],\n       [  1.    ,   0.    ,  35.    ,   8.05  ,   1.    ,   0.    ]]), 'covered_true': array([[  1.    ,   0.    ,  23.    ,  13.7917,   1.    ,   0.    ],\n       [  1.    ,   0.    ,  28.    ,  24.    ,   1.    ,   1.    ],\n       [  1.    ,   0.    ,  49.    ,  25.9292,   1.    ,   0.    ],\n       [  1.    ,   0.    ,  17.    ,   8.6625,   1.    ,   0.    ],\n       [  1.    ,   0.    ,  42.    ,  52.5542,   1.    ,   1.    ],\n       [  1.    ,   0.    ,  16.    ,   9.5   ,   1.    ,   0.    ],\n       [  1.    ,   0.    ,  23.    ,  13.7917,   1.    ,   0.    ],\n       [  1.    ,   0.    ,  15.    ,  14.4542,   1.    ,   1.    ],\n       [  1.    ,   0.    ,  47.    ,  52.5542,   1.    ,   2.    ],\n       [  1.    ,   0.    ,  64.    , 263.    ,   1.    ,   5.    ]]), 'covered_false': array([[ 1.    ,  0.    , 10.    , 24.15  ,  1.    ,  2.    ],\n       [ 1.    ,  0.    ,  3.    , 41.5792,  1.    ,  3.    ],\n       [ 1.    ,  0.    ,  1.    , 39.    ,  1.    ,  3.    ],\n       [ 1.    ,  0.    , 30.    , 56.9292,  1.    ,  0.    ],\n       [ 1.    ,  0.    , 12.    , 11.2417,  1.    ,  1.    ],\n       [ 1.    ,  0.    ,  3.    , 41.5792,  1.    ,  3.    ],\n       [ 1.    ,  0.    ,  5.    , 12.475 ,  1.    ,  0.    ],\n       [ 1.    ,  0.    , 32.    , 56.4958,  1.    ,  0.    ],\n       [ 1.    ,  0.    ,  3.    , 41.5792,  1.    ,  3.    ],\n       [ 1.    ,  0.    ,  3.    , 41.5792,  1.    ,  3.    ]]), 'uncovered_true': array([], dtype=float64), 'uncovered_false': array([], dtype=float64)}], 'all_precision': 0, 'num_preds': 10000001, 'names': ['Sex = Male', 'Pclass = Second', 'Embarked = Cherbourg'], 'instance': array([[ 1,  0, 15, 60,  1,  3]]), 'prediction': 0}, 'meta': {'name': 'AnchorTabular'}}\n"
    }
   ],
   "source": [
    "print(explanation)"
   ]
  },
  {
   "cell_type": "code",
   "execution_count": null,
   "metadata": {},
   "outputs": [],
   "source": []
  }
 ],
 "metadata": {
  "kernelspec": {
   "display_name": "Python 3.7.2 64-bit ('ERIC': conda)",
   "language": "python",
   "name": "python37264bitericcondabdcb471955c1426e8fd2932ac153ec64"
  },
  "language_info": {
   "codemirror_mode": {
    "name": "ipython",
    "version": 3
   },
   "file_extension": ".py",
   "mimetype": "text/x-python",
   "name": "python",
   "nbconvert_exporter": "python",
   "pygments_lexer": "ipython3",
   "version": "3.7.2-final"
  }
 },
 "nbformat": 4,
 "nbformat_minor": 2
}