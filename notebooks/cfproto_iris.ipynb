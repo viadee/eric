{
 "cells": [
  {
   "cell_type": "markdown",
   "metadata": {},
   "source": [
    "# Counterfactuals guided by prototypes on Boston housing dataset"
   ]
  },
  {
   "cell_type": "markdown",
   "metadata": {},
   "source": [
    "This notebook goes through an example of [prototypical counterfactuals](../methods/CFProto.ipynb) using [k-d trees](https://en.wikipedia.org/wiki/K-d_tree) to build the prototypes. Please check out [this notebook](./cfproto_mnist.ipynb) for a more in-depth application of the method on MNIST using (auto-)encoders and trust scores.\n",
    "\n",
    "In this example, we will train a simple neural net to predict whether house prices in the Boston area are above the median value or not. We can then find a counterfactual to see which variables need to be changed to increase or decrease a house price above or below the median value."
   ]
  },
  {
   "cell_type": "code",
   "execution_count": 2,
   "metadata": {},
   "outputs": [],
   "source": [
    "import tensorflow as tf\n",
    "tf.logging.set_verbosity(tf.logging.ERROR)  # suppress deprecation messages\n",
    "from tensorflow.keras import backend as K\n",
    "from tensorflow.keras.layers import Dense, Input\n",
    "from tensorflow.keras.models import Model, load_model\n",
    "from tensorflow.keras.utils import to_categorical\n",
    "import matplotlib\n",
    "%matplotlib inline\n",
    "import matplotlib.pyplot as plt\n",
    "import numpy as np\n",
    "import os\n",
    "from sklearn.datasets import load_boston\n",
    "from sklearn.datasets import load_iris\n",
    "from sklearn import metrics #Import scikit-learn metrics module for accuracy calculation\n",
    "from sklearn.tree import DecisionTreeClassifier\n",
    "from alibi.explainers import CounterFactualProto\n",
    "from alibi.explainers import CounterFactual\n",
    "from sklearn.model_selection import train_test_split\n",
    "from sklearn.neighbors import KNeighborsClassifier"
   ]
  },
  {
   "cell_type": "markdown",
   "metadata": {},
   "source": [
    "## Load and prepare Boston housing dataset"
   ]
  },
  {
   "cell_type": "code",
   "execution_count": 8,
   "metadata": {},
   "outputs": [
    {
     "name": "stdout",
     "output_type": "stream",
     "text": "[0 0 0 0 0 0 0 0 0 0 0 0 0 0 0 0 0 0 0 0 0 0 0 0 0 0 0 0 0 0 0 0 0 0 0 0 0\n 0 0 0 0 0 0 0 0 0 0 0 0 0 1 1 1 1 1 1 1 1 1 1 1 1 1 1 1 1 1 1 1 1 1 1 1 1\n 1 1 1 1 1 1 1 1 1 1 1 1 1 1 1 1 1 1 1 1 1 1 1 1 1 1 2 2 2 2 2 2 2 2 2 2 2\n 2 2 2 2 2 2 2 2 2 2 2 2 2 2 2 2 2 2 2 2 2 2 2 2 2 2 2 2 2 2 2 2 2 2 2 2 2\n 2 2]\n"
    }
   ],
   "source": [
    "dataset = load_iris()\n",
    "data = dataset.data\n",
    "target = dataset.target\n",
    "feature_names = dataset.feature_names\n",
    "class_names = list(dataset.target_names)\n",
    "print(target)\n",
    "#print(feature_names)\n",
    "#print(class_names)\n",
    "#print(dataset)"
   ]
  },
  {
   "cell_type": "markdown",
   "metadata": {},
   "source": [
    "Define train and test set"
   ]
  },
  {
   "cell_type": "code",
   "execution_count": 30,
   "metadata": {},
   "outputs": [
    {
     "name": "stdout",
     "output_type": "stream",
     "text": "[6.5 2.8 4.6 1.5]\n[0. 1. 0.]\n"
    }
   ],
   "source": [
    "#x_train,y_train = dataset.data[:idx,:], dataset.target[:idx]\n",
    "#x_test, y_test = dataset.data[idx+1:,:], dataset.target[idx+1:]\n",
    "x_train, x_test, y_train, y_test = \\\n",
    "            train_test_split(dataset.data, dataset.target, random_state=None)\n",
    "y_train = to_categorical(y_train)\n",
    "y_test = to_categorical(y_test)\n",
    "print(x_train[1])\n",
    "print(y_train[1])\n",
    ""
   ]
  },
  {
   "cell_type": "markdown",
   "metadata": {},
   "source": [
    "## Train model"
   ]
  },
  {
   "cell_type": "code",
   "execution_count": 4,
   "metadata": {},
   "outputs": [],
   "source": [
    "np.random.seed(0)\n",
    "tf.set_random_seed(0)"
   ]
  },
  {
   "cell_type": "code",
   "execution_count": 36,
   "metadata": {},
   "outputs": [],
   "source": [
    "def nn_model():\n",
    "    x_in = Input(shape=(4,))\n",
    "    x = Dense(40, activation='relu')(x_in)\n",
    "    x = Dense(40, activation='relu')(x)\n",
    "    x_out = Dense(3, activation='softmax')(x)\n",
    "    nn = Model(inputs=x_in, outputs=x_out)\n",
    "    nn.compile(loss='categorical_crossentropy', optimizer='sgd', metrics=['accuracy'])\n",
    "    return nn"
   ]
  },
  {
   "cell_type": "code",
   "execution_count": 37,
   "metadata": {},
   "outputs": [
    {
     "name": "stdout",
     "output_type": "stream",
     "text": "_________________________________________________________________\nLayer (type)                 Output Shape              Param #   \n=================================================================\ninput_6 (InputLayer)         (None, 4)                 0         \n_________________________________________________________________\ndense_15 (Dense)             (None, 40)                200       \n_________________________________________________________________\ndense_16 (Dense)             (None, 40)                1640      \n_________________________________________________________________\ndense_17 (Dense)             (None, 3)                 123       \n=================================================================\nTotal params: 1,963\nTrainable params: 1,963\nNon-trainable params: 0\n_________________________________________________________________\n"
    },
    {
     "data": {
      "text/plain": "<tensorflow.python.keras.callbacks.History at 0x1386c6048>"
     },
     "execution_count": 37,
     "metadata": {},
     "output_type": "execute_result"
    }
   ],
   "source": [
    "nn = nn_model()\n",
    "nn.summary()\n",
    "nn.fit(x_train, y_train, batch_size=64, epochs=500, verbose=0)\n",
    "#nn.save('nn_boston.h5', save_format='h5')"
   ]
  },
  {
   "cell_type": "code",
   "execution_count": 41,
   "metadata": {},
   "outputs": [
    {
     "name": "stdout",
     "output_type": "stream",
     "text": "Test accuracy:  0.94736844\n[[6.7 3.3 5.7 2.5]]\ntest:  [[8.7883718e-06 2.3091815e-02 9.7689945e-01]]\n"
    }
   ],
   "source": [
    "score = nn.evaluate(x_test, y_test, verbose=0)\n",
    "print('Test accuracy: ', score[1])\n"
   ]
  },
  {
   "cell_type": "markdown",
   "metadata": {},
   "source": [
    "## Generate counterfactual guided by the nearest class prototype"
   ]
  },
  {
   "cell_type": "markdown",
   "metadata": {},
   "source": [
    "Original instance:"
   ]
  },
  {
   "cell_type": "code",
   "execution_count": 61,
   "metadata": {},
   "outputs": [
    {
     "name": "stdout",
     "output_type": "stream",
     "text": "(1, 4)\n"
    }
   ],
   "source": [
    "X = np.array([[6.7, 3.3, 5.7, 2.5]])\n",
    "shape = X.shape\n",
    "print(shape)"
   ]
  },
  {
   "cell_type": "code",
   "execution_count": 57,
   "metadata": {},
   "outputs": [
    {
     "name": "stdout",
     "output_type": "stream",
     "text": "[[6.7 3.3 5.7 2.5]]\noriginal:  [[8.7883718e-06 2.3091815e-02 9.7689945e-01]]\nnew:  [[0.00343219 0.9905461  0.00602177]]\n"
    }
   ],
   "source": [
    "print(x_test[1].reshape((1,) + x_test[1].shape))\n",
    "print('original: ', nn.predict(np.array([[6.7, 3.3, 5.7, 2.5]])))\n",
    "\n",
    "print('new: ', nn.predict(np.array([[7.2676477, 3.8370461, 4.979153 , 1.6486421]])))"
   ]
  },
  {
   "cell_type": "markdown",
   "metadata": {},
   "source": [
    "Run counterfactual:"
   ]
  },
  {
   "cell_type": "code",
   "execution_count": 68,
   "metadata": {},
   "outputs": [
    {
     "name": "stdout",
     "output_type": "stream",
     "text": "{'X': array([[6.7023945, 3.3273273, 0.6559316, 2.459649 ]], dtype=float32), 'distance': 5.114141464233398, 'lambda': 0.0002575, 'index': 98026, 'class': 0, 'proba': array([[9.9363637e-01, 6.3623656e-03, 1.2695402e-06]], dtype=float32), 'loss': 0.0013573872175689941}, {'X': array([[6.6940503 , 3.3276432 , 0.68503696, 2.4673502 ]], dtype=float32), 'distance': 5.081205368041992, 'lambda': 0.0002575, 'index': 98027, 'class': 0, 'proba': array([[9.9313074e-01, 6.8678618e-03, 1.4403804e-06]], dtype=float32), 'loss': 0.0013555970670845513}, {'X': array([[6.6986737, 3.3223774, 0.7178855, 2.4815505]], dtype=float32), 'distance': 5.024267196655273, 'lambda': 0.0002575, 'index': 98028, 'class': 0, 'proba': array([[9.9243999e-01, 7.5583267e-03, 1.6718627e-06]], dtype=float32), 'loss': 0.0013509026257768893}, {'X': array([[6.7149863, 3.3142836, 0.7457717, 2.5004625]], dtype=float32), 'distance': 4.9839606285095215, 'lambda': 0.0002575, 'index': 98029, 'class': 0, 'proba': array([[9.916027e-01, 8.395278e-03, 1.967902e-06]], dtype=float32), 'loss': 0.0013538841928874138}, {'X': array([[6.7220163 , 3.307721  , 0.75459117, 2.4967678 ]], dtype=float32), 'distance': 4.9783782958984375, 'lambda': 0.0002575, 'index': 98030, 'class': 0, 'proba': array([[9.913647e-01, 8.633224e-03, 2.016223e-06]], dtype=float32), 'loss': 0.0013565005153332642}, {'X': array([[6.720809 , 3.303497 , 0.7444902, 2.4963837]], dtype=float32), 'distance': 4.983432292938232, 'lambda': 0.0002575, 'index': 98031, 'class': 0, 'proba': array([[9.9152315e-01, 8.4748296e-03, 1.9710346e-06]], dtype=float32), 'loss': 0.001355090858499375}, {'X': array([[6.7120667 , 3.300787  , 0.72021043, 2.4993608 ]], dtype=float32), 'distance': 4.993282318115234, 'lambda': 0.0002575, 'index': 98032, 'class': 0, 'proba': array([[9.9194580e-01, 8.0523118e-03, 1.8729309e-06]], dtype=float32), 'loss': 0.0013506402835645772}, {'X': array([[6.6962667, 3.2978156, 0.6877905, 2.506248 ]], dtype=float32), 'distance': 5.024374961853027, 'lambda': 0.0002575, 'index': 98033, 'class': 0, 'proba': array([[9.9241066e-01, 7.5875944e-03, 1.7942371e-06]], dtype=float32), 'loss': 0.0013513746374996846}, {'X': array([[6.694382  , 3.3210537 , 0.65846276, 2.4950202 ]], dtype=float32), 'distance': 5.073188781738281, 'lambda': 0.0002575, 'index': 98034, 'class': 0, 'proba': array([[9.9324811e-01, 6.7503094e-03, 1.4937302e-06]], dtype=float32), 'loss': 0.0013519341967251468}, {'X': array([[6.704347  , 3.3364415 , 0.63892347, 2.4919045 ]], dtype=float32), 'distance': 5.109960556030273, 'lambda': 0.0002575, 'index': 98035, 'class': 0, 'proba': array([[9.9375457e-01, 6.2441267e-03, 1.3128334e-06]], dtype=float32), 'loss': 0.0013548202925761838}, {'X': array([[6.7046123 , 3.3433719 , 0.63204825, 2.4967914 ]], dtype=float32), 'distance': 5.119144916534424, 'lambda': 0.0002575, 'index': 98036, 'class': 0, 'proba': array([[9.9389040e-01, 6.1083259e-03, 1.2836468e-06]], dtype=float32), 'loss': 0.001355506970722331}, {'X': array([[6.6960945, 3.342311 , 0.6373712, 2.5090694]], dtype=float32), 'distance': 5.117914199829102, 'lambda': 0.0002575, 'index': 98037, 'class': 0, 'proba': array([[9.9369746e-01, 6.3010850e-03, 1.3872233e-06]], dtype=float32), 'loss': 0.0013575848606121293}, {'X': array([[6.6998363 , 3.334483  , 0.65221936, 2.5046542 ]], dtype=float32), 'distance': 5.087080955505371, 'lambda': 0.0002575, 'index': 98038, 'class': 0, 'proba': array([[9.9344021e-01, 6.5583498e-03, 1.4461789e-06]], dtype=float32), 'loss': 0.0013529541801385915}, {'X': array([[6.7145557, 3.321154 , 0.6738519, 2.4855595]], dtype=float32), 'distance': 5.076298713684082, 'lambda': 0.0002575, 'index': 98039, 'class': 0, 'proba': array([[9.9314886e-01, 6.8497634e-03, 1.4516264e-06]], dtype=float32), 'loss': 0.0013540849926422256}, {'X': array([[6.7195115 , 3.3035746 , 0.69953907, 2.4749448 ]], dtype=float32), 'distance': 5.048602104187012, 'lambda': 0.0002575, 'index': 98040, 'class': 0, 'proba': array([[9.9262601e-01, 7.3724412e-03, 1.5658519e-06]], dtype=float32), 'loss': 0.001354390750119743}, {'X': array([[6.7159147, 3.2835698, 0.7248666, 2.4713109]], dtype=float32), 'distance': 5.036167144775391, 'lambda': 0.0002575, 'index': 98041, 'class': 0, 'proba': array([[9.9188542e-01, 8.1128757e-03, 1.7929455e-06]], dtype=float32), 'loss': 0.0013626593889528341}, {'X': array([[6.7050295 , 3.294258  , 0.73608166, 2.4718664 ]], dtype=float32), 'distance': 5.0028228759765625, 'lambda': 0.0002575, 'index': 98042, 'class': 0, 'proba': array([[9.9176461e-01, 8.2335360e-03, 1.8505024e-06]], dtype=float32), 'loss': 0.0013560486206235568}, {'X': array([[6.6876245, 3.328586 , 0.7334731, 2.476026 ]], dtype=float32), 'distance': 5.0314621925354, 'lambda': 0.0002575, 'index': 98043, 'class': 0, 'proba': array([[9.9224091e-01, 7.7573769e-03, 1.7341166e-06]], dtype=float32), 'loss': 0.001355805057976395}, {'X': array([[6.684086 , 3.3584745, 0.7241884, 2.484347 ]], dtype=float32), 'distance': 5.065853118896484, 'lambda': 0.0002575, 'index': 98044, 'class': 0, 'proba': array([[9.9272704e-01, 7.2713038e-03, 1.6028501e-06]], dtype=float32), 'loss': 0.0013573531071749496}, {'X': array([[6.6925397, 3.3818448, 0.7185651, 2.4981472]], dtype=float32), 'distance': 5.072592735290527, 'lambda': 0.0002575, 'index': 98045, 'class': 0, 'proba': array([[9.9302167e-01, 6.9768224e-03, 1.5256671e-06]], dtype=float32), 'loss': 0.001354889760745515}, {'X': array([[6.711496  , 3.3985307 , 0.71867293, 2.5173304 ]], dtype=float32), 'distance': 5.108684539794922, 'lambda': 0.0002575, 'index': 98046, 'class': 0, 'proba': array([[9.9313074e-01, 6.8676518e-03, 1.5003362e-06]], dtype=float32), 'loss': 0.0013626729538109305}, {'X': array([[6.720404  , 3.4088633 , 0.72483915, 2.5183232 ]], dtype=float32), 'distance': 5.122751235961914, 'lambda': 0.0002575, 'index': 98047, 'class': 0, 'proba': array([[9.9317873e-01, 6.8198354e-03, 1.4636181e-06]], dtype=float32), 'loss': 0.0013656382325759342}, {'X': array([[6.7202215 , 3.4132938 , 0.73687035, 2.5036626 ]], dtype=float32), 'distance': 5.100307941436768, 'lambda': 0.0002575, 'index': 98048, 'class': 0, 'proba': array([[9.9315852e-01, 6.8401331e-03, 1.4235756e-06]], dtype=float32), 'loss': 0.001360135153525804}, {'X': array([[6.7118497, 3.4123952, 0.754093 , 2.4754224]], dtype=float32), 'distance': 5.094729423522949, 'lambda': 0.0002575, 'index': 98049, 'class': 0, 'proba': array([[9.9307358e-01, 6.9250157e-03, 1.3831063e-06]], dtype=float32), 'loss': 0.001359868083874194}], 99: [{'X': array([[6.647281 , 3.3702497, 0.7836336, 2.5164633]], dtype=float32), 'distance': 5.055797576904297, 'lambda': 0.0002575, 'index': 99001, 'class': 0, 'proba': array([[9.9122566e-01, 8.7719457e-03, 2.3106961e-06]], dtype=float32), 'loss': 0.0013788569211688503}, {'X': array([[6.7061586, 3.4203446, 0.7171968, 2.4441476]], dtype=float32), 'distance': 5.165158748626709, 'lambda': 0.0002575, 'index': 99002, 'class': 0, 'proba': array([[9.9390548e-01, 6.0933954e-03, 1.1044125e-06]], dtype=float32), 'loss': 0.0013671714948014474}, {'X': array([[6.7297873 , 3.442215  , 0.67102015, 2.3977747 ]], dtype=float32), 'distance': 5.3032073974609375, 'lambda': 0.0002575, 'index': 99003, 'class': 0, 'proba': array([[9.9502337e-01, 4.9759396e-03, 7.3994562e-07]], dtype=float32), 'loss': 0.001390342753102}, {'X': array([[6.728927  , 3.4393358 , 0.64419585, 2.3718956 ]], dtype=float32), 'distance': 5.352170944213867, 'lambda': 0.0002575, 'index': 99004, 'class': 0, 'proba': array([[9.9542040e-01, 4.5789964e-03, 6.3220949e-07]], dtype=float32), 'loss': 0.0013991567879279194}, {'X': array([[6.7104635, 3.417853 , 0.633445 , 2.3620965]], dtype=float32), 'distance': 5.332775115966797, 'lambda': 0.0002575, 'index': 99005, 'class': 0, 'proba': array([[9.9537176e-01, 4.6276459e-03, 6.5189846e-07]], dtype=float32), 'loss': 0.0013946102076909542}, {'X': array([[6.678955 , 3.3829482, 0.6352676, 2.364949 ]], dtype=float32), 'distance': 5.303775787353516, 'lambda': 0.0002575, 'index': 99006, 'class': 0, 'proba': array([[9.9497777e-01, 5.0213984e-03, 7.7536981e-07]], dtype=float32), 'loss': 0.001390945036958325}, {'X': array([[6.6704955, 3.3386946, 0.6462801, 2.3776808]], dtype=float32), 'distance': 5.244237899780273, 'lambda': 0.0002575, 'index': 99007, 'class': 0, 'proba': array([[9.943434e-01, 5.655700e-03, 9.604116e-07]], dtype=float32), 'loss': 0.0013823883827361579}, {'X': array([[6.6799765, 3.2884169, 0.6632253, 2.3979735]], dtype=float32), 'distance': 5.170407772064209, 'lambda': 0.0002575, 'index': 99008, 'class': 0, 'proba': array([[9.9347442e-01, 6.5243426e-03, 1.2186204e-06]], dtype=float32), 'loss': 0.0013739631449346838}, {'X': array([[6.7039037, 3.279242 , 0.6825186, 2.423687 ]], dtype=float32), 'distance': 5.11845588684082, 'lambda': 0.0002575, 'index': 99009, 'class': 0, 'proba': array([[9.9295491e-01, 7.0436900e-03, 1.3770004e-06]], dtype=float32), 'loss': 0.0013676356867667494}, {'X': array([[6.7135887, 3.2970312, 0.702051 , 2.4534612]], dtype=float32), 'distance': 5.061045169830322, 'lambda': 0.0002575, 'index': 99010, 'class': 0, 'proba': array([[9.9265724e-01, 7.3411604e-03, 1.5085242e-06]], dtype=float32), 'loss': 0.0013571351938893408}, {'X': array([[6.7114177 , 3.3336546 , 0.72068626, 2.4864361 ]], dtype=float32), 'distance': 5.037949562072754, 'lambda': 0.0002575, 'index': 99011, 'class': 0, 'proba': array([[9.9254131e-01, 7.4570305e-03, 1.6204713e-06]], dtype=float32), 'loss': 0.0013529040214410636}, {'X': array([[6.699181 , 3.3633897, 0.7371211, 2.522038 ]], dtype=float32), 'distance': 5.0491251945495605, 'lambda': 0.0002575, 'index': 99012, 'class': 0, 'proba': array([[9.9226540e-01, 7.7327094e-03, 1.8350274e-06]], dtype=float32), 'loss': 0.0013599737241610785}, {'X': array([[6.703444  , 3.3888085 , 0.74826413, 2.5340161 ]], dtype=float32), 'distance': 5.078004360198975, 'lambda': 0.0002575, 'index': 99013, 'class': 0, 'proba': array([[9.9231088e-01, 7.6873391e-03, 1.8326542e-06]], dtype=float32), 'loss': 0.0013667086642946244}, {'X': array([[6.6977262, 3.4102333, 0.754883 , 2.5274568]], dtype=float32), 'distance': 5.085080623626709, 'lambda': 0.0002575, 'index': 99014, 'class': 0, 'proba': array([[9.9253464e-01, 7.4636433e-03, 1.7336988e-06]], dtype=float32), 'loss': 0.0013651398985693234}, {'X': array([[6.7066116, 3.42739  , 0.7585358, 2.5062704]], dtype=float32), 'distance': 5.0817365646362305, 'lambda': 0.0002575, 'index': 99015, 'class': 0, 'proba': array([[9.9293035e-01, 7.0681167e-03, 1.5113703e-06]], dtype=float32), 'loss': 0.0013585270785122215}, {'X': array([[6.705059 , 3.4389791, 0.7627706, 2.4738212]], dtype=float32), 'distance': 5.107446193695068, 'lambda': 0.0002575, 'index': 99016, 'class': 0, 'proba': array([[9.9324703e-01, 6.7516286e-03, 1.3289932e-06]], dtype=float32), 'loss': 0.0013607699694499025}, {'X': array([[6.6941624 , 3.4442751 , 0.77004826, 2.4504519 ]], dtype=float32), 'distance': 5.129612445831299, 'lambda': 0.0002575, 'index': 99017, 'class': 0, 'proba': array([[9.933408e-01, 6.657914e-03, 1.260812e-06]], dtype=float32), 'loss': 0.0013652202790062587}, {'X': array([[6.6972995, 3.4436553, 0.7804596, 2.4353604]], dtype=float32), 'distance': 5.13053560256958, 'lambda': 0.0002575, 'index': 99018, 'class': 0, 'proba': array([[9.9329984e-01, 6.6989097e-03, 1.2276707e-06]], dtype=float32), 'loss': 0.001366005036483971}, {'X': array([[6.7124877 , 3.4377773 , 0.79358405, 2.4276829 ]], dtype=float32), 'distance': 5.128998279571533, 'lambda': 0.0002575, 'index': 99019, 'class': 0, 'proba': array([[9.9313653e-01, 6.8623205e-03, 1.2243743e-06]], dtype=float32), 'loss': 0.0013678243439497828}, {'X': array([[6.7171216, 3.4275184, 0.8078871, 2.4265225]], dtype=float32), 'distance': 5.110230445861816, 'lambda': 0.0002575, 'index': 99020, 'class': 0, 'proba': array([[9.9277002e-01, 7.2286604e-03, 1.3086316e-06]], dtype=float32), 'loss': 0.0013681570056532622}, {'X': array([[6.7125926, 3.4152253, 0.8196499, 2.4301262]], dtype=float32), 'distance': 5.078042030334473, 'lambda': 0.0002575, 'index': 99021, 'class': 0, 'proba': array([[9.9231189e-01, 7.6866653e-03, 1.4512083e-06]], dtype=float32), 'loss': 0.0013667027829374697}, {'X': array([[6.700133 , 3.4024346, 0.8267032, 2.4374108]], dtype=float32), 'distance': 5.038453578948975, 'lambda': 0.0002575, 'index': 99022, 'class': 0, 'proba': array([[9.9185055e-01, 8.1477687e-03, 1.6323119e-06]], dtype=float32), 'loss': 0.0013638152513150421}, {'X': array([[6.680824  , 3.3906667 , 0.82689583, 2.4473505 ]], dtype=float32), 'distance': 5.0355963706970215, 'lambda': 0.0002575, 'index': 99023, 'class': 0, 'proba': array([[9.9147826e-01, 8.5200006e-03, 1.8280386e-06]], dtype=float32), 'loss': 0.0013692860442528548}, {'X': array([[6.676841  , 3.381125  , 0.81875694, 2.4591205 ]], dtype=float32), 'distance': 5.026406288146973, 'lambda': 0.0002575, 'index': 99024, 'class': 0, 'proba': array([[9.9135989e-01, 8.6382553e-03, 1.9263223e-06]], dtype=float32), 'loss': 0.001368951128524019}, {'X': array([[6.6861777, 3.3740494, 0.8024707, 2.4723792]], dtype=float32), 'distance': 5.013021469116211, 'lambda': 0.0002575, 'index': 99025, 'class': 0, 'proba': array([[9.9150205e-01, 8.4960572e-03, 1.9150943e-06]], dtype=float32), 'loss': 0.001363068240539524}, {'X': array([[6.706986 , 3.3687148, 0.7796771, 2.4872646]], dtype=float32), 'distance': 5.008759498596191, 'lambda': 0.0002575, 'index': 99026, 'class': 0, 'proba': array([[9.9183732e-01, 8.1609031e-03, 1.8186724e-06]], dtype=float32), 'loss': 0.0013563848713974553}, {'X': array([[6.71808   , 3.3637786 , 0.75283355, 2.5042214 ]], dtype=float32), 'distance': 5.0332465171813965, 'lambda': 0.0002575, 'index': 99027, 'class': 0, 'proba': array([[9.9219370e-01, 7.8045158e-03, 1.7467545e-06]], dtype=float32), 'loss': 0.0013569993153026009}, {'X': array([[6.7202106 , 3.3579597 , 0.72417897, 2.5029242 ]], dtype=float32), 'distance': 5.056915283203125, 'lambda': 0.0002575, 'index': 99028, 'class': 0, 'proba': array([[9.9268806e-01, 7.3104454e-03, 1.5931406e-06]], dtype=float32), 'loss': 0.0013556201548133914}, {'X': array([[6.7139606, 3.3485508, 0.6985424, 2.4875684]], dtype=float32), 'distance': 5.076400279998779, 'lambda': 0.0002575, 'index': 99029, 'class': 0, 'proba': array([[9.9307925e-01, 6.9193356e-03, 1.4577812e-06]], dtype=float32), 'loss': 0.001355069920617267}, {'X': array([[6.6999784 , 3.3347208 , 0.67825115, 2.4794266 ]], dtype=float32), 'distance': 5.077064514160156, 'lambda': 0.0002575, 'index': 99030, 'class': 0, 'proba': array([[9.9324375e-01, 6.7548715e-03, 1.4274704e-06]], dtype=float32), 'loss': 0.0013529909736240064}, {'X': array([[6.698998  , 3.3164103 , 0.66355115, 2.478042  ]], dtype=float32), 'distance': 5.07581901550293, 'lambda': 0.0002575, 'index': 99031, 'class': 0, 'proba': array([[9.9325848e-01, 6.7401710e-03, 1.4345636e-06]], dtype=float32), 'loss': 0.0013524715388650657}, {'X': array([[6.7094917, 3.2939732, 0.6540216, 2.482822 ]], dtype=float32), 'distance': 5.078674793243408, 'lambda': 0.0002575, 'index': 99032, 'class': 0, 'proba': array([[9.9313474e-01, 6.8637836e-03, 1.4778468e-06]], dtype=float32), 'loss': 0.00135489059511654}, {'X': array([[6.7107134, 3.2979941, 0.6486939, 2.4930694]], dtype=float32), 'distance': 5.070955276489258, 'lambda': 0.0002575, 'index': 99033, 'class': 0, 'proba': array([[9.9318933e-01, 6.8091010e-03, 1.4876300e-06]], dtype=float32), 'loss': 0.0013521561432173622}, {'X': array([[6.7035546, 3.3226821, 0.647452 , 2.5083604]], dtype=float32), 'distance': 5.0871453285217285, 'lambda': 0.0002575, 'index': 99034, 'class': 0, 'proba': array([[9.9335951e-01, 6.6390238e-03, 1.4813564e-06]], dtype=float32), 'loss': 0.001354036080928951}, {'X': array([[6.688767 , 3.339656 , 0.6506724, 2.5083117]], dtype=float32), 'distance': 5.108528137207031, 'lambda': 0.0002575, 'index': 99035, 'class': 0, 'proba': array([[9.9346256e-01, 6.5360321e-03, 1.4694286e-06]], dtype=float32), 'loss': 0.00135818408359919}, {'X': array([[6.686772 , 3.3493598, 0.6584   , 2.495    ]], dtype=float32), 'distance': 5.109187602996826, 'lambda': 0.0002575, 'index': 99036, 'class': 0, 'proba': array([[9.9354964e-01, 6.4489334e-03, 1.4028622e-06]], dtype=float32), 'loss': 0.0013572228880807747}, {'X': array([[6.696082 , 3.352243 , 0.6706065, 2.4892154]], dtype=float32), 'distance': 5.096338748931885, 'lambda': 0.0002575, 'index': 99037, 'class': 0, 'proba': array([[9.9347419e-01, 6.5244404e-03, 1.3873110e-06]], dtype=float32), 'loss': 0.0013548934831721239}, {'X': array([[6.715462  , 3.3490965 , 0.68658847, 2.4901898 ]], dtype=float32), 'distance': 5.087780952453613, 'lambda': 0.0002575, 'index': 99038, 'class': 0, 'proba': array([[9.9325210e-01, 6.7464365e-03, 1.4148454e-06]], dtype=float32), 'loss': 0.0013556377690962622}, {'X': array([[6.7247934 , 3.340984  , 0.70509994, 2.497066  ]], dtype=float32), 'distance': 5.0636115074157715, 'lambda': 0.0002575, 'index': 99039, 'class': 0, 'proba': array([[9.9284452e-01, 7.1539292e-03, 1.5340197e-06]], dtype=float32), 'loss': 0.0013550808285772166}, {'X': array([[6.7252483 , 3.3293529 , 0.72411674, 2.5088432 ]], dtype=float32), 'distance': 5.039327621459961, 'lambda': 0.0002575, 'index': 99040, 'class': 0, 'proba': array([[9.9224865e-01, 7.7495663e-03, 1.7557951e-06]], dtype=float32), 'loss': 0.0013577102216708091}, {'X': array([[6.7180257 , 3.3173652 , 0.73688984, 2.5036912 ]], dtype=float32), 'distance': 5.00219202041626, 'lambda': 0.0002575, 'index': 99041, 'class': 0, 'proba': array([[9.9182326e-01, 8.1748739e-03, 1.8989911e-06]], dtype=float32), 'loss': 0.0013549235874407044}, {'X': array([[6.704084 , 3.3064375, 0.7412735, 2.4833467]], dtype=float32), 'distance': 4.98590087890625, 'lambda': 0.0002575, 'index': 99042, 'class': 0, 'proba': array([[9.9171877e-01, 8.2793031e-03, 1.9002439e-06]], dtype=float32), 'loss': 0.001352448261976606}, {'X': array([[6.6841145 , 3.2968285 , 0.73738724, 2.4678738 ]], dtype=float32), 'distance': 5.013795852661133, 'lambda': 0.0002575, 'index': 99043, 'class': 0, 'proba': array([[9.9174094e-01, 8.2571609e-03, 1.8946079e-06]], dtype=float32), 'loss': 0.0013592644710854257}, {'X': array([[6.6782737, 3.3149476, 0.7261723, 2.4568865]], dtype=float32), 'distance': 5.053614616394043, 'lambda': 0.0002575, 'index': 99044, 'class': 0, 'proba': array([[9.9234092e-01, 7.6574511e-03, 1.6710214e-06]], dtype=float32), 'loss': 0.0013599672340836198}, {'X': array([[6.684589 , 3.3290365, 0.7140791, 2.451455 ]], dtype=float32), 'distance': 5.07891321182251, 'lambda': 0.0002575, 'index': 99045, 'class': 0, 'proba': array([[9.9278706e-01, 7.2113983e-03, 1.5048302e-06]], dtype=float32), 'loss': 0.0013598466104532566}, {'X': array([[6.701488 , 3.3378377, 0.7050811, 2.45193  ]], dtype=float32), 'distance': 5.082314491271973, 'lambda': 0.0002575, 'index': 99046, 'class': 0, 'proba': array([[9.9308515e-01, 6.9134501e-03, 1.3864372e-06]], dtype=float32), 'loss': 0.0013565111880309451}, {'X': array([[6.708751 , 3.3410695, 0.7003492, 2.4581344]], dtype=float32), 'distance': 5.091337203979492, 'lambda': 0.0002575, 'index': 99047, 'class': 0, 'proba': array([[9.9317086e-01, 6.8277796e-03, 1.3651514e-06]], dtype=float32), 'loss': 0.0013576565182728748}, {'X': array([[6.7072744 , 3.3390176 , 0.69991803, 2.4696457 ]], dtype=float32), 'distance': 5.076728820800781, 'lambda': 0.0002575, 'index': 99048, 'class': 0, 'proba': array([[9.9306083e-01, 6.9377511e-03, 1.4309609e-06]], dtype=float32), 'loss': 0.0013554097897376962}, {'X': array([[6.6979556 , 3.3324168 , 0.70290273, 2.4858587 ]], dtype=float32), 'distance': 5.045699119567871, 'lambda': 0.0002575, 'index': 99049, 'class': 0, 'proba': array([[9.9277675e-01, 7.2217155e-03, 1.5833479e-06]], dtype=float32), 'loss': 0.0013514428419178378}, {'X': array([[6.7008624, 3.322389 , 0.7076036, 2.5060172]], dtype=float32), 'distance': 5.021665096282959, 'lambda': 0.0002575, 'index': 99050, 'class': 0, 'proba': array([[9.9241555e-01, 7.5826147e-03, 1.7584767e-06]], dtype=float32), 'loss': 0.0013506026839757625}]}, 'orig_class': 2, 'orig_proba': 0.9768994450569153, 'success': True}\n"
    }
   ],
   "source": [
    "# define model\n",
    "#nn = load_model('nn_boston.h5')\n",
    "predict_fn = lambda x: nn.predict(x)\n",
    "# initialize explainer, fit and generate counterfactual\n",
    "cf = CounterFactual(predict_fn, shape=shape, target_proba=1.0, tol=0.01,\n",
    "                    target_class=0, max_iter=1000, lam_init=1e-1,\n",
    "                    max_lam_steps=100, learning_rate_init=0.1)\n",
    "\n",
    "print(cf)\n",
    "#cf.fit(x_train)\n",
    "explanation = cf.explain(X)\n",
    "print(explanation)"
   ]
  },
  {
   "cell_type": "markdown",
   "metadata": {},
   "source": [
    "The prediction flipped from 0 (value below the median) to 1 (above the median):"
   ]
  },
  {
   "cell_type": "code",
   "execution_count": 65,
   "metadata": {},
   "outputs": [
    {
     "name": "stdout",
     "output_type": "stream",
     "text": "Original prediction: 2\nCounterfactual prediction: 0\n"
    }
   ],
   "source": [
    "print('Original prediction: {}'.format(explanation['orig_class']))\n",
    "print('Counterfactual prediction: {}'.format(explanation['cf']['class']))"
   ]
  },
  {
   "cell_type": "markdown",
   "metadata": {},
   "source": [
    "Let's take a look at the counterfactual. To make the results more interpretable, we will first undo the pre-processing step and then check where the counterfactual differs from the original instance:"
   ]
  },
  {
   "cell_type": "code",
   "execution_count": 66,
   "metadata": {},
   "outputs": [
    {
     "ename": "NameError",
     "evalue": "name 'sigma' is not defined",
     "output_type": "error",
     "traceback": [
      "\u001b[0;31m---------------------------------------------------------------------------\u001b[0m",
      "\u001b[0;31mNameError\u001b[0m                                 Traceback (most recent call last)",
      "\u001b[0;32m<ipython-input-66-852b2f503231>\u001b[0m in \u001b[0;36m<module>\u001b[0;34m\u001b[0m\n\u001b[0;32m----> 1\u001b[0;31m \u001b[0morig\u001b[0m \u001b[0;34m=\u001b[0m \u001b[0mX\u001b[0m \u001b[0;34m*\u001b[0m \u001b[0msigma\u001b[0m \u001b[0;34m+\u001b[0m \u001b[0mmu\u001b[0m\u001b[0;34m\u001b[0m\u001b[0;34m\u001b[0m\u001b[0m\n\u001b[0m\u001b[1;32m      2\u001b[0m \u001b[0mcounterfactual\u001b[0m \u001b[0;34m=\u001b[0m \u001b[0mexplanation\u001b[0m\u001b[0;34m[\u001b[0m\u001b[0;34m'cf'\u001b[0m\u001b[0;34m]\u001b[0m\u001b[0;34m[\u001b[0m\u001b[0;34m'X'\u001b[0m\u001b[0;34m]\u001b[0m \u001b[0;34m*\u001b[0m \u001b[0msigma\u001b[0m \u001b[0;34m+\u001b[0m \u001b[0mmu\u001b[0m\u001b[0;34m\u001b[0m\u001b[0;34m\u001b[0m\u001b[0m\n\u001b[1;32m      3\u001b[0m \u001b[0mdelta\u001b[0m \u001b[0;34m=\u001b[0m \u001b[0mcounterfactual\u001b[0m \u001b[0;34m-\u001b[0m \u001b[0morig\u001b[0m\u001b[0;34m\u001b[0m\u001b[0;34m\u001b[0m\u001b[0m\n\u001b[1;32m      4\u001b[0m \u001b[0;32mfor\u001b[0m \u001b[0mi\u001b[0m\u001b[0;34m,\u001b[0m \u001b[0mf\u001b[0m \u001b[0;32min\u001b[0m \u001b[0menumerate\u001b[0m\u001b[0;34m(\u001b[0m\u001b[0mfeature_names\u001b[0m\u001b[0;34m)\u001b[0m\u001b[0;34m:\u001b[0m\u001b[0;34m\u001b[0m\u001b[0;34m\u001b[0m\u001b[0m\n\u001b[1;32m      5\u001b[0m     \u001b[0;32mif\u001b[0m \u001b[0mnp\u001b[0m\u001b[0;34m.\u001b[0m\u001b[0mabs\u001b[0m\u001b[0;34m(\u001b[0m\u001b[0mdelta\u001b[0m\u001b[0;34m[\u001b[0m\u001b[0;36m0\u001b[0m\u001b[0;34m]\u001b[0m\u001b[0;34m[\u001b[0m\u001b[0mi\u001b[0m\u001b[0;34m]\u001b[0m\u001b[0;34m)\u001b[0m \u001b[0;34m>\u001b[0m \u001b[0;36m1e-4\u001b[0m\u001b[0;34m:\u001b[0m\u001b[0;34m\u001b[0m\u001b[0;34m\u001b[0m\u001b[0m\n",
      "\u001b[0;31mNameError\u001b[0m: name 'sigma' is not defined"
     ]
    }
   ],
   "source": [
    "orig = X * sigma + mu\n",
    "counterfactual = explanation['cf']['X'] * sigma + mu\n",
    "delta = counterfactual - orig\n",
    "for i, f in enumerate(feature_names):\n",
    "    if np.abs(delta[0][i]) > 1e-4:\n",
    "        print('{}: {}'.format(f, delta[0][i]))"
   ]
  },
  {
   "cell_type": "markdown",
   "metadata": {},
   "source": [
    "So in order to increase the house price, the proportion of owner-occupied units built prior to 1940 should decrease by ~11-12%. This is not surprising since the proportion for the observation is very high at 93.6%. Furthermore, the % of the population with \"lower status\" should decrease by ~5%."
   ]
  },
  {
   "cell_type": "code",
   "execution_count": 22,
   "metadata": {},
   "outputs": [
    {
     "name": "stdout",
     "output_type": "stream",
     "text": "% owner-occupied units built prior to 1940: 93.6\n% lower status of the population: 18.68\n"
    }
   ],
   "source": [
    "print('% owner-occupied units built prior to 1940: {}'.format(orig[0][5]))\n",
    "print('% lower status of the population: {}'.format(orig[0][11]))"
   ]
  },
  {
   "cell_type": "markdown",
   "metadata": {},
   "source": [
    "Clean up:"
   ]
  },
  {
   "cell_type": "code",
   "execution_count": 16,
   "metadata": {},
   "outputs": [],
   "source": [
    "os.remove('nn_boston.h5')"
   ]
  }
 ],
 "metadata": {
  "kernelspec": {
   "display_name": "Python 3",
   "language": "python",
   "name": "python3"
  },
  "language_info": {
   "codemirror_mode": {
    "name": "ipython",
    "version": 3
   },
   "file_extension": ".py",
   "mimetype": "text/x-python",
   "name": "python",
   "nbconvert_exporter": "python",
   "pygments_lexer": "ipython3",
   "version": "3.7.3"
  }
 },
 "nbformat": 4,
 "nbformat_minor": 2
}