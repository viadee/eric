{
 "cells": [
  {
   "cell_type": "markdown",
   "metadata": {},
   "source": [
    "# Counterfactuals guided by prototypes on Boston housing dataset"
   ]
  },
  {
   "cell_type": "markdown",
   "metadata": {},
   "source": [
    "This notebook goes through an example of [prototypical counterfactuals](../methods/CFProto.ipynb) using [k-d trees](https://en.wikipedia.org/wiki/K-d_tree) to build the prototypes. Please check out [this notebook](./cfproto_mnist.ipynb) for a more in-depth application of the method on MNIST using (auto-)encoders and trust scores.\n",
    "\n",
    "In this example, we will train a simple neural net to predict whether house prices in the Boston area are above the median value or not. We can then find a counterfactual to see which variables need to be changed to increase or decrease a house price above or below the median value."
   ]
  },
  {
   "cell_type": "code",
   "execution_count": 2,
   "metadata": {},
   "outputs": [],
   "source": [
    "import tensorflow as tf\n",
    "tf.logging.set_verbosity(tf.logging.ERROR)  # suppress deprecation messages\n",
    "from tensorflow.keras import backend as K\n",
    "from tensorflow.keras.layers import Dense, Input\n",
    "from tensorflow.keras.models import Model, load_model\n",
    "from tensorflow.keras.utils import to_categorical\n",
    "import matplotlib\n",
    "%matplotlib inline\n",
    "import matplotlib.pyplot as plt\n",
    "import numpy as np\n",
    "import os\n",
    "from sklearn.datasets import load_boston\n",
    "from alibi.explainers import CounterFactualProto\n",
    "from alibi.explainers import CounterFactual"
   ]
  },
  {
   "cell_type": "markdown",
   "metadata": {},
   "source": [
    "## Load and prepare Boston housing dataset"
   ]
  },
  {
   "cell_type": "code",
   "execution_count": 5,
   "metadata": {},
   "outputs": [
    {
     "name": "stdout",
     "output_type": "stream",
     "text": "[[6.3200e-03 1.8000e+01 2.3100e+00 ... 1.5300e+01 3.9690e+02 4.9800e+00]\n [2.7310e-02 0.0000e+00 7.0700e+00 ... 1.7800e+01 3.9690e+02 9.1400e+00]\n [2.7290e-02 0.0000e+00 7.0700e+00 ... 1.7800e+01 3.9283e+02 4.0300e+00]\n ...\n [6.0760e-02 0.0000e+00 1.1930e+01 ... 2.1000e+01 3.9690e+02 5.6400e+00]\n [1.0959e-01 0.0000e+00 1.1930e+01 ... 2.1000e+01 3.9345e+02 6.4800e+00]\n [4.7410e-02 0.0000e+00 1.1930e+01 ... 2.1000e+01 3.9690e+02 7.8800e+00]]\n[24.  21.6 34.7 33.4 36.2 28.7 22.9 27.1 16.5 18.9 15.  18.9 21.7 20.4\n 18.2 19.9 23.1 17.5 20.2 18.2 13.6 19.6 15.2 14.5 15.6 13.9 16.6 14.8\n 18.4 21.  12.7 14.5 13.2 13.1 13.5 18.9 20.  21.  24.7 30.8 34.9 26.6\n 25.3 24.7 21.2 19.3 20.  16.6 14.4 19.4 19.7 20.5 25.  23.4 18.9 35.4\n 24.7 31.6 23.3 19.6 18.7 16.  22.2 25.  33.  23.5 19.4 22.  17.4 20.9\n 24.2 21.7 22.8 23.4 24.1 21.4 20.  20.8 21.2 20.3 28.  23.9 24.8 22.9\n 23.9 26.6 22.5 22.2 23.6 28.7 22.6 22.  22.9 25.  20.6 28.4 21.4 38.7\n 43.8 33.2 27.5 26.5 18.6 19.3 20.1 19.5 19.5 20.4 19.8 19.4 21.7 22.8\n 18.8 18.7 18.5 18.3 21.2 19.2 20.4 19.3 22.  20.3 20.5 17.3 18.8 21.4\n 15.7 16.2 18.  14.3 19.2 19.6 23.  18.4 15.6 18.1 17.4 17.1 13.3 17.8\n 14.  14.4 13.4 15.6 11.8 13.8 15.6 14.6 17.8 15.4 21.5 19.6 15.3 19.4\n 17.  15.6 13.1 41.3 24.3 23.3 27.  50.  50.  50.  22.7 25.  50.  23.8\n 23.8 22.3 17.4 19.1 23.1 23.6 22.6 29.4 23.2 24.6 29.9 37.2 39.8 36.2\n 37.9 32.5 26.4 29.6 50.  32.  29.8 34.9 37.  30.5 36.4 31.1 29.1 50.\n 33.3 30.3 34.6 34.9 32.9 24.1 42.3 48.5 50.  22.6 24.4 22.5 24.4 20.\n 21.7 19.3 22.4 28.1 23.7 25.  23.3 28.7 21.5 23.  26.7 21.7 27.5 30.1\n 44.8 50.  37.6 31.6 46.7 31.5 24.3 31.7 41.7 48.3 29.  24.  25.1 31.5\n 23.7 23.3 22.  20.1 22.2 23.7 17.6 18.5 24.3 20.5 24.5 26.2 24.4 24.8\n 29.6 42.8 21.9 20.9 44.  50.  36.  30.1 33.8 43.1 48.8 31.  36.5 22.8\n 30.7 50.  43.5 20.7 21.1 25.2 24.4 35.2 32.4 32.  33.2 33.1 29.1 35.1\n 45.4 35.4 46.  50.  32.2 22.  20.1 23.2 22.3 24.8 28.5 37.3 27.9 23.9\n 21.7 28.6 27.1 20.3 22.5 29.  24.8 22.  26.4 33.1 36.1 28.4 33.4 28.2\n 22.8 20.3 16.1 22.1 19.4 21.6 23.8 16.2 17.8 19.8 23.1 21.  23.8 23.1\n 20.4 18.5 25.  24.6 23.  22.2 19.3 22.6 19.8 17.1 19.4 22.2 20.7 21.1\n 19.5 18.5 20.6 19.  18.7 32.7 16.5 23.9 31.2 17.5 17.2 23.1 24.5 26.6\n 22.9 24.1 18.6 30.1 18.2 20.6 17.8 21.7 22.7 22.6 25.  19.9 20.8 16.8\n 21.9 27.5 21.9 23.1 50.  50.  50.  50.  50.  13.8 13.8 15.  13.9 13.3\n 13.1 10.2 10.4 10.9 11.3 12.3  8.8  7.2 10.5  7.4 10.2 11.5 15.1 23.2\n  9.7 13.8 12.7 13.1 12.5  8.5  5.   6.3  5.6  7.2 12.1  8.3  8.5  5.\n 11.9 27.9 17.2 27.5 15.  17.2 17.9 16.3  7.   7.2  7.5 10.4  8.8  8.4\n 16.7 14.2 20.8 13.4 11.7  8.3 10.2 10.9 11.   9.5 14.5 14.1 16.1 14.3\n 11.7 13.4  9.6  8.7  8.4 12.8 10.5 17.1 18.4 15.4 10.8 11.8 14.9 12.6\n 14.1 13.  13.4 15.2 16.1 17.8 14.9 14.1 12.7 13.5 14.9 20.  16.4 17.7\n 19.5 20.2 21.4 19.9 19.  19.1 19.1 20.1 19.9 19.6 23.2 29.8 13.8 13.3\n 16.7 12.  14.6 21.4 23.  23.7 25.  21.8 20.6 21.2 19.1 20.6 15.2  7.\n  8.1 13.6 20.1 21.8 24.5 23.1 19.7 18.3 21.2 17.5 16.8 22.4 20.6 23.9\n 22.  11.9]\n"
    }
   ],
   "source": [
    "boston = load_boston()\n",
    "data = boston.data\n",
    "target = boston.target\n",
    "feature_names = boston.feature_names\n",
    "print(data)\n",
    "print(target)"
   ]
  },
  {
   "cell_type": "markdown",
   "metadata": {},
   "source": [
    "Transform into classification task: target becomes whether house price is above the overall median or not"
   ]
  },
  {
   "cell_type": "code",
   "execution_count": 6,
   "metadata": {},
   "outputs": [],
   "source": [
    "y = np.zeros((target.shape[0],))\n",
    "y[np.where(target > np.median(target))[0]] = 1"
   ]
  },
  {
   "cell_type": "markdown",
   "metadata": {},
   "source": [
    "Remove categorical feature"
   ]
  },
  {
   "cell_type": "code",
   "execution_count": 7,
   "metadata": {},
   "outputs": [],
   "source": [
    "data = np.delete(data, 3, 1)\n",
    "feature_names = np.delete(feature_names, 3)"
   ]
  },
  {
   "cell_type": "markdown",
   "metadata": {},
   "source": [
    "Explanation of remaining features:\n",
    "\n",
    "- CRIM: per capita crime rate by town\n",
    "- ZN: proportion of residential land zoned for lots over 25,000 sq.ft.\n",
    "- INDUS: proportion of non-retail business acres per town\n",
    "- RM: average number of rooms per dwelling\n",
    "- AGE: proportion of owner-occupied units built prior to 1940\n",
    "- DIS: weighted distances to five Boston employment centres\n",
    "- RAD: index of accessibility to radial highways\n",
    "- TAX: full-value property-tax rate per USD10,000\n",
    "- PTRATIO: pupil-teacher ratio by town\n",
    "- B: 1000(Bk - 0.63)^2 where Bk is the proportion of blacks by town\n",
    "- LSTAT: % lower status of the population"
   ]
  },
  {
   "cell_type": "markdown",
   "metadata": {},
   "source": [
    "Standardize data"
   ]
  },
  {
   "cell_type": "code",
   "execution_count": 8,
   "metadata": {},
   "outputs": [],
   "source": [
    "mu = data.mean(axis=0)\n",
    "sigma = data.std(axis=0)\n",
    "data = (data - mu) / sigma"
   ]
  },
  {
   "cell_type": "markdown",
   "metadata": {},
   "source": [
    "Define train and test set"
   ]
  },
  {
   "cell_type": "code",
   "execution_count": 11,
   "metadata": {},
   "outputs": [
    {
     "name": "stdout",
     "output_type": "stream",
     "text": "[-0.41733926 -0.48772236 -0.59338101 -0.74026221  0.19427445  0.36716642\n  0.55715988 -0.8678825  -0.98732948 -0.30309415  0.44105193 -0.49243937]\n[0. 1.]\n"
    }
   ],
   "source": [
    "idx = 475\n",
    "x_train,y_train = data[:idx,:], y[:idx]\n",
    "x_test, y_test = data[idx:,:], y[idx:]\n",
    "y_train = to_categorical(y_train)\n",
    "y_test = to_categorical(y_test)\n",
    "print(x_train[1])\n",
    "print(y_train[1])"
   ]
  },
  {
   "cell_type": "markdown",
   "metadata": {},
   "source": [
    "## Train model"
   ]
  },
  {
   "cell_type": "code",
   "execution_count": 7,
   "metadata": {},
   "outputs": [],
   "source": [
    "np.random.seed(0)\n",
    "tf.set_random_seed(0)"
   ]
  },
  {
   "cell_type": "code",
   "execution_count": 8,
   "metadata": {},
   "outputs": [],
   "source": [
    "def nn_model():\n",
    "    x_in = Input(shape=(12,))\n",
    "    x = Dense(40, activation='relu')(x_in)\n",
    "    x = Dense(40, activation='relu')(x)\n",
    "    x_out = Dense(2, activation='softmax')(x)\n",
    "    nn = Model(inputs=x_in, outputs=x_out)\n",
    "    nn.compile(loss='categorical_crossentropy', optimizer='sgd', metrics=['accuracy'])\n",
    "    return nn"
   ]
  },
  {
   "cell_type": "code",
   "execution_count": 9,
   "metadata": {},
   "outputs": [
    {
     "name": "stdout",
     "output_type": "stream",
     "text": "_________________________________________________________________\nLayer (type)                 Output Shape              Param #   \n=================================================================\ninput_1 (InputLayer)         (None, 12)                0         \n_________________________________________________________________\ndense (Dense)                (None, 40)                520       \n_________________________________________________________________\ndense_1 (Dense)              (None, 40)                1640      \n_________________________________________________________________\ndense_2 (Dense)              (None, 2)                 82        \n=================================================================\nTotal params: 2,242\nTrainable params: 2,242\nNon-trainable params: 0\n_________________________________________________________________\n"
    },
    {
     "data": {
      "text/plain": "<tensorflow.python.keras.callbacks.History at 0x110df8898>"
     },
     "execution_count": 9,
     "metadata": {},
     "output_type": "execute_result"
    }
   ],
   "source": [
    "nn = nn_model()\n",
    "nn.summary()\n",
    "nn.fit(x_train, y_train, batch_size=64, epochs=500, verbose=0)\n",
    "#nn.save('nn_boston.h5', save_format='h5')"
   ]
  },
  {
   "cell_type": "code",
   "execution_count": 18,
   "metadata": {},
   "outputs": [
    {
     "name": "stdout",
     "output_type": "stream",
     "text": "Test accuracy:  0.83870965\n[[ 0.14638431 -0.48772236  1.01599907  0.51229565  0.28402795  0.88990683\n  -0.7081777   1.66124525  1.53092646  0.80657583  0.43348653  0.84481853]]\ntest:  [[0.937028   0.06297205]]\n"
    }
   ],
   "source": [
    "score = nn.evaluate(x_test, y_test, verbose=0)\n",
    "print('Test accuracy: ', score[1])\n",
    "print(x_test[1].reshape((1,) + x_test[1].shape))\n",
    "print('test: ', nn.predict(x_test[1].reshape((1,) + x_test[1].shape)))"
   ]
  },
  {
   "cell_type": "markdown",
   "metadata": {},
   "source": [
    "## Generate counterfactual guided by the nearest class prototype"
   ]
  },
  {
   "cell_type": "markdown",
   "metadata": {},
   "source": [
    "Original instance:"
   ]
  },
  {
   "cell_type": "code",
   "execution_count": 11,
   "metadata": {},
   "outputs": [
    {
     "name": "stdout",
     "output_type": "stream",
     "text": "(1, 12)\n"
    }
   ],
   "source": [
    "X = x_test[1].reshape((1,) + x_test[1].shape)\n",
    "shape = X.shape\n",
    "print(shape)"
   ]
  },
  {
   "cell_type": "markdown",
   "metadata": {},
   "source": [
    "Run counterfactual:"
   ]
  },
  {
   "cell_type": "code",
   "execution_count": 12,
   "metadata": {},
   "outputs": [
    {
     "name": "stdout",
     "output_type": "stream",
     "text": "dtype=float32), 'distance': 13.15241813659668, 'lambda': 0.000505, 'index': 58, 'class': 1, 'proba': array([[0.00333154, 0.9966685 ]], dtype=float32), 'loss': 0.006653069934032334}, {'X': array([[-0.97784096,  0.64816016,  2.1675205 , -0.6444657 , -0.81634307,\n        -0.2926612 , -1.8896298 ,  2.8931873 ,  0.45237184,  0.32401267,\n        -0.64815134, -0.38811615]], dtype=float32), 'distance': 13.140413284301758, 'lambda': 0.000505, 'index': 59, 'class': 1, 'proba': array([[0.00332155, 0.9966785 ]], dtype=float32), 'loss': 0.006646941259715263}, {'X': array([[-0.97729254,  0.6478734 ,  2.1665099 , -0.64214754, -0.8130952 ,\n        -0.2922133 , -1.8892746 ,  2.8928287 ,  0.45313638,  0.32572302,\n        -0.64660275, -0.38818476]], dtype=float32), 'distance': 13.127886772155762, 'lambda': 0.000505, 'index': 60, 'class': 1, 'proba': array([[0.00331194, 0.99668807]], dtype=float32), 'loss': 0.006640551714087193}, {'X': array([[-0.97670865,  0.6475523 ,  2.1654575 , -0.6397775 , -0.80979055,\n        -0.29172823, -1.8888828 ,  2.8924315 ,  0.45393762,  0.3274718 ,\n        -0.64501077, -0.3882183 ]], dtype=float32), 'distance': 13.11487102508545, 'lambda': 0.000505, 'index': 61, 'class': 1, 'proba': array([[0.00330265, 0.9966974 ]], dtype=float32), 'loss': 0.006633916863735358}, {'X': array([[-0.97609204,  0.64719963,  2.1643665 , -0.6373588 , -0.8064323 ,\n        -0.29120898, -1.8884572 ,  2.8919985 ,  0.4547728 ,  0.3292566 ,\n        -0.6433782 , -0.38821986]], dtype=float32), 'distance': 13.10140609741211, 'lambda': 0.000505, 'index': 62, 'class': 1, 'proba': array([[0.00329366, 0.9967063 ]], dtype=float32), 'loss': 0.006627058493203782}, {'X': array([[-0.9754452 ,  0.646818  ,  2.1632397 , -0.63489443, -0.8030234 ,\n        -0.29065824, -1.8880007 ,  2.891533  ,  0.45563942,  0.33107528,\n        -0.6417078 , -0.3881922 ]], dtype=float32), 'distance': 13.087519645690918, 'lambda': 0.000505, 'index': 63, 'class': 1, 'proba': array([[0.00328494, 0.99671507]], dtype=float32), 'loss': 0.006619988193950049}, {'X': array([[-0.9747705 ,  0.64640963,  2.1620793 , -0.6323871 , -0.79956645,\n        -0.29007846, -1.8875157 ,  2.8910372 ,  0.4565352 ,  0.33292586,\n        -0.64000183, -0.38813788]], dtype=float32), 'distance': 13.073246002197266, 'lambda': 0.000505, 'index': 64, 'class': 1, 'proba': array([[0.00327646, 0.9967236 ]], dtype=float32), 'loss': 0.006612724078648504}], 1: [{'X': array([[-0.87481225,  0.5464524 ,  2.062122  , -0.5324285 , -0.6996074 ,\n        -0.19012114, -1.7875583 ,  2.7910805 ,  0.5564931 ,  0.43288398,\n        -0.54004395, -0.28818178]], dtype=float32), 'distance': 11.873754501342773, 'lambda': 0.0007525, 'index': 1000, 'class': 1, 'proba': array([[0.00461738, 0.9953826 ]], dtype=float32), 'loss': 0.008956320580532171}, {'X': array([[-0.7749165 ,  0.4466427 ,  1.9623115 , -0.43254313, -0.59969175,\n        -0.09030703, -1.6877062 ,  2.6913185 ,  0.65629184,  0.53274226,\n        -0.44016063, -0.18855217]], dtype=float32), 'distance': 10.675838470458984, 'lambda': 0.0007525, 'index': 1001, 'class': 1, 'proba': array([[0.00705109, 0.9929489 ]], dtype=float32), 'loss': 0.008083286605026793}, {'X': array([[ 0.09954279, -0.4867371 ,  1.2843112 ,  0.55142826,  0.38935184,\n         0.8660469 , -0.7709204 ,  1.7276253 ,  1.523002  ,  0.80160004,\n         0.4078619 , -1.3389665 ]], dtype=float32), 'distance': 2.835887908935547, 'lambda': 0.0007525, 'index': 1038, 'class': 1, 'proba': array([[0.00995908, 0.99004096]], dtype=float32), 'loss': 0.0022331881704717635}, {'X': array([[ 0.10234479, -0.48499578,  1.2667941 ,  0.5309675 ,  0.3779426 ,\n         0.8862273 , -0.76917034,  1.7233309 ,  1.5048362 ,  0.8232682 ,\n         0.41444907, -1.3554696 ]], dtype=float32), 'distance': 2.799013376235962, 'lambda': 0.0007525, 'index': 1039, 'class': 1, 'proba': array([[0.00996348, 0.9900365 ]], dtype=float32), 'loss': 0.0022055291453740937}], 2: [{'X': array([[ 0.12955041, -0.4551058 ,  1.0372952 ,  0.4982564 ,  0.3013247 ,\n         0.8680545 , -0.7619493 ,  1.6861421 ,  1.5192692 ,  0.79255176,\n         0.45478854, -1.5774742 ]], dtype=float32), 'distance': 2.671879291534424, 'lambda': 0.00062875, 'index': 2002, 'class': 1, 'proba': array([[0.00826331, 0.9917367 ]], dtype=float32), 'loss': 0.0017482260649936653}, {'X': array([[ 0.11075758, -0.4155767 ,  1.0623277 ,  0.56747395,  0.32866088,\n         0.84513485, -0.7091991 ,  1.7172335 ,  1.5098082 ,  0.85765153,\n         0.38705215, -1.5830888 ]], dtype=float32), 'distance': 2.9022293090820312, 'lambda': 0.00062875, 'index': 2003, 'class': 1, 'proba': array([[0.00678832, 0.9932116 ]], dtype=float32), 'loss': 0.0018708586859837895}, {'X': array([[ 0.11772531, -0.399618  ,  1.0608739 ,  0.59659123,  0.33011934,\n         0.84869266, -0.6447226 ,  1.7222081 ,  1.5264897 ,  0.8868175 ,\n         0.35737434, -1.5577594 ]], dtype=float32), 'distance': 3.0210258960723877, 'lambda': 0.00062875, 'index': 2004, 'class': 1, 'proba': array([[0.00683833, 0.9931617 ]], dtype=float32), 'loss': 0.0019462326756338733}, {'X': array([[ 0.14241062, -0.401263  ,  1.0411487 ,  0.59948754,  0.3130575 ,\n         0.8704302 , -0.61664826,  1.7089156 ,  1.5604752 ,  0.8907782 ,\n         0.3536638 , -1.5138845 ]], dtype=float32), 'distance': 2.9427576065063477, 'lambda': 0.00062875, 'index': 2005, 'class': 1, 'proba': array([[0.0079518, 0.9920482]], dtype=float32), 'loss': 0.0019134899055886364}], 3: [{'X': array([[ 0.22758979, -0.38883603,  1.1142651 ,  0.41751677,  0.37963086,\n         0.79028475, -0.79618436,  1.5888855 ,  1.6224992 ,  0.90042883,\n         0.51451623, -1.4886692 ]], dtype=float32), 'distance': 3.3286712169647217, 'lambda': 0.000566875, 'index': 3000, 'class': 1, 'proba': array([[0.00899158, 0.99100846]], dtype=float32), 'loss': 0.0019677882783067403}, {'X': array([[ 0.2065979 , -0.36201075,  1.1318227 ,  0.44217378,  0.39781573,\n         0.7733756 , -0.7927243 ,  1.6281953 ,  1.6009575 ,  0.9082903 ,\n         0.49400875, -1.4319488 ]], dtype=float32), 'distance': 3.228821277618408, 'lambda': 0.000566875, 'index': 3001, 'class': 1, 'proba': array([[0.00905193, 0.990948  ]], dtype=float32), 'loss': 0.001912276378109433}, {'X': array([[ 0.19149251, -0.46679875,  1.0790669 ,  0.44865766,  0.32868847,\n         0.85170203, -0.73087496,  1.6870347 ,  1.5676409 ,  0.83441144,\n         0.4884507 , -1.482213  ]], dtype=float32), 'distance': 2.7706356048583984, 'lambda': 0.000566875, 'index': 3012, 'class': 1, 'proba': array([[0.00998632, 0.9900137 ]], dtype=float32), 'loss': 0.0016703298746033987}], 4: [{'X': array([[ 0.21596716, -0.53554034,  0.9559183 ,  0.44827604,  0.41042447,\n         0.9525753 , -0.7953009 ,  1.604005  ,  1.4303569 ,  0.73508924,\n         0.32852292, -1.6266423 ]], dtype=float32), 'distance': 3.3234102725982666, 'lambda': 0.0005359375, 'index': 4001, 'class': 1, 'proba': array([[0.00855476, 0.9914452 ]], dtype=float32), 'loss': 0.0018543250739740187}, {'X': array([[ 0.16045144, -0.46683946,  1.0150388 ,  0.5019585 ,  0.4004488 ,\n         0.8922406 , -0.75851303,  1.6688244 ,  1.4592779 ,  0.78668904,\n         0.35353363, -1.5723025 ]], dtype=float32), 'distance': 2.811525821685791, 'lambda': 0.0005359375, 'index': 4002, 'class': 1, 'proba': array([[0.00778025, 0.9922198 ]], dtype=float32), 'loss': 0.001567333543133668}, {'X': array([[ 0.09153926, -0.43698692,  1.0861263 ,  0.56949985,  0.36733794,\n         0.8201107 , -0.70331067,  1.6938787 ,  1.5083885 ,  0.852683  ,\n         0.3993744 , -1.4994156 ]], dtype=float32), 'distance': 2.8705098628997803, 'lambda': 0.0005359375, 'index': 4003, 'class': 1, 'proba': array([[0.00783914, 0.99216086]], dtype=float32), 'loss': 0.0015998660469528714}, {'X': array([[ 0.05927978, -0.43162435,  1.121695  ,  0.5991375 ,  0.31941983,\n         0.78366756, -0.68860286,  1.6933637 ,  1.5692623 ,  0.88259494,\n         0.45899218, -1.4182196 ]], dtype=float32), 'distance': 2.9319634437561035, 'lambda': 0.0005359375, 'index': 4004, 'class': 1, 'proba': array([[0.00902894, 0.9909711 ]], dtype=float32), 'loss': 0.0016528704026484774}, {'X': array([[ 0.12810908, -0.49057898,  1.020291  ,  0.56992304,  0.26339868,\n         0.85007507, -0.70327115,  1.688681  ,  1.5523058 ,  0.8643734 ,\n         0.45152122, -1.4960046 ]], dtype=float32), 'distance': 2.613889217376709, 'lambda': 0.0005359375, 'index': 4015, 'class': 1, 'proba': array([[0.0097534 , 0.99024665]], dtype=float32), 'loss': 0.001496009019278449}, {'X': array([[ 0.12014755, -0.4793652 ,  1.0340829 ,  0.5805414 ,  0.25551298,\n         0.8460679 , -0.7025707 ,  1.6609179 ,  1.54706   ,  0.87377477,\n         0.46854383, -1.5238861 ]], dtype=float32), 'distance': 2.6863059997558594, 'lambda': 0.0005359375, 'index': 4016, 'class': 1, 'proba': array([[0.00921434, 0.9907857 ]], dtype=float32), 'loss': 0.0015245951151799317}, {'X': array([[ 0.12306898, -0.47818536,  1.0352095 ,  0.5797624 ,  0.26339334,\n         0.85282093, -0.71397483,  1.6527394 ,  1.5304093 ,  0.87180537,\n         0.46993515, -1.5376365 ]], dtype=float32), 'distance': 2.676203489303589, 'lambda': 0.0005359375, 'index': 4017, 'class': 1, 'proba': array([[0.00902493, 0.9909751 ]], dtype=float32), 'loss': 0.0015157269538880937}, {'X': array([[ 0.13561682, -0.48604497,  1.0252577 ,  0.5689358 ,  0.28435752,\n         0.8690742 , -0.71249604,  1.6606144 ,  1.5270066 ,  0.85982674,\n         0.45811826, -1.5384731 ]], dtype=float32), 'distance': 2.569549083709717, 'lambda': 0.0005359375, 'index': 4018, 'class': 1, 'proba': array([[0.00912516, 0.9908749 ]], dtype=float32), 'loss': 0.0014603854082057522}, {'X': array([[ 0.156599  , -0.5018458 ,  1.0056756 ,  0.5492318 ,  0.29386812,\n         0.89362466, -0.69984365,  1.6819532 ,  1.5351167 ,  0.8391034 ,\n         0.434994  , -1.5283848 ]], dtype=float32), 'distance': 2.5256261825561523, 'lambda': 0.0005359375, 'index': 4019, 'class': 1, 'proba': array([[0.00963222, 0.99036777]], dtype=float32), 'loss': 0.001446357633229877}, {'X': array([[ 0.13420387, -0.45494938,  1.0128486 ,  0.53901553,  0.3064887 ,\n         0.8610686 , -0.6885602 ,  1.6508855 ,  1.547153  ,  0.8186309 ,\n         0.4195648 , -1.483361  ]], dtype=float32), 'distance': 2.5264828205108643, 'lambda': 0.0005359375, 'index': 4053, 'class': 1, 'proba': array([[0.00999661, 0.9900034 ]], dtype=float32), 'loss': 0.0014539687581952932}], 5: [{'X': array([[ 0.19054791, -0.5050682 ,  0.96208316,  0.61834425,  0.23365761,\n         0.7671389 , -0.80302835,  1.6158793 ,  1.5972801 ,  0.7289676 ,\n         0.33248663, -1.5976565 ]], dtype=float32), 'distance': 3.2222657203674316, 'lambda': 0.00055140625, 'index': 5001, 'class': 1, 'proba': array([[0.00867611, 0.99132395]], dtype=float32), 'loss': 0.0018520513373005815}, {'X': array([[ 0.13559906, -0.4367374 ,  1.0221438 ,  0.59584635,  0.29386255,\n         0.78222764, -0.7632396 ,  1.6811824 ,  1.5460248 ,  0.77729046,\n         0.3611555 , -1.5472589 ]], dtype=float32), 'distance': 2.8527708053588867, 'lambda': 0.00055140625, 'index': 5002, 'class': 1, 'proba': array([[0.00784968, 0.9921503 ]], dtype=float32), 'loss': 0.0016346533367704251}, {'X': array([[ 0.12176181, -0.4075787 ,  1.0444762 ,  0.552177  ,  0.31433433,\n         0.81940174, -0.7056662 ,  1.7083704 ,  1.4804515 ,  0.84127384,\n         0.40989637, -1.476328  ]], dtype=float32), 'distance': 2.7534823417663574, 'lambda': 0.00055140625, 'index': 5003, 'class': 1, 'proba': array([[0.00853961, 0.99146044]], dtype=float32), 'loss': 0.0015912114140755012}], 6: [{'X': array([[ 0.05273671, -0.44832864,  1.1316589 ,  0.49893668,  0.2787552 ,\n         0.8622132 , -0.65369135,  1.8104225 ,  1.5565801 ,  0.8507901 ,\n         0.45840764, -1.4418056 ]], dtype=float32), 'distance': 2.880103349685669, 'lambda': 0.000543671875, 'index': 6002, 'class': 1, 'proba': array([[0.00896579, 0.9910342 ]], dtype=float32), 'loss': 0.0016462165835145572}, {'X': array([[ 0.09614526, -0.4507512 ,  1.0990616 ,  0.5666527 ,  0.3492596 ,\n         0.8392816 , -0.7101491 ,  1.7888402 ,  1.4917767 ,  0.8020448 ,\n         0.39472026, -1.4440652 ]], dtype=float32), 'distance': 2.841383695602417, 'lambda': 0.000543671875, 'index': 6003, 'class': 1, 'proba': array([[0.00837881, 0.99162126]], dtype=float32), 'loss': 0.001614983754500954}, {'X': array([[ 0.15262806, -0.47188303,  1.0511341 ,  0.6006093 ,  0.38645285,\n         0.84086204, -0.7289696 ,  1.7497449 ,  1.4629102 ,  0.79386365,\n         0.36556968, -1.4171705 ]], dtype=float32), 'distance': 2.816927433013916, 'lambda': 0.000543671875, 'index': 6004, 'class': 1, 'proba': array([[0.00920527, 0.9907947 ]], dtype=float32), 'loss': 0.0016162214310565162}, {'X': array([[ 0.10734862, -0.4754096 ,  0.9880325 ,  0.54833   ,  0.30210218,\n         0.88531715, -0.69436145,  1.6893189 ,  1.5095366 ,  0.8093802 ,\n         0.41480792, -1.496343  ]], dtype=float32), 'distance': 2.5639374256134033, 'lambda': 0.000543671875, 'index': 6015, 'class': 1, 'proba': array([[0.00969967, 0.9903003 ]], dtype=float32), 'loss': 0.0014880248915544007}, {'X': array([[ 0.10530622, -0.4648806 ,  0.9955955 ,  0.5531202 ,  0.32128242,\n         0.91159177, -0.7059173 ,  1.6627548 ,  1.518903  ,  0.7997412 ,\n         0.42401934, -1.4970735 ]], dtype=float32), 'distance': 2.558074712753296, 'lambda': 0.000543671875, 'index': 6016, 'class': 1, 'proba': array([[0.00984825, 0.9901517 ]], dtype=float32), 'loss': 0.0014877422222274765}], 7: [{'X': array([[ 0.13989031, -0.46261773,  1.0293877 ,  0.5999763 ,  0.2966956 ,\n         0.8721749 , -0.65851927,  1.8166724 ,  1.5391489 ,  0.7893494 ,\n         0.4589019 , -1.4692202 ]], dtype=float32), 'distance': 2.73305606842041, 'lambda': 0.0005475390625000001, 'index': 7002, 'class': 1, 'proba': array([[0.00911982, 0.99088013]], dtype=float32), 'loss': 0.0015796269548801003}, {'X': array([[ 0.12012906, -0.4622976 ,  1.0534614 ,  0.55359596,  0.32247615,\n         0.8475226 , -0.7162087 ,  1.7952268 ,  1.4748693 ,  0.85504925,\n         0.39555147, -1.4789238 ]], dtype=float32), 'distance': 2.819495677947998, 'lambda': 0.0005475390625000001, 'index': 7003, 'class': 1, 'proba': array([[0.00829927, 0.9917007 ]], dtype=float32), 'loss': 0.0016126622535513582}, {'X': array([[ 0.12509157, -0.48053995,  1.0539559 ,  0.4945671 ,  0.32377255,\n         0.8473172 , -0.73663   ,  1.7546841 ,  1.4475486 ,  0.88398474,\n         0.3665338 , -1.4596393 ]], dtype=float32), 'distance': 2.8205833435058594, 'lambda': 0.0005475390625000001, 'index': 7004, 'class': 1, 'proba': array([[0.00891114, 0.99108887]], dtype=float32), 'loss': 0.001623787847608328}, {'X': array([[ 0.1412383 , -0.44471866,  1.0257566 ,  0.5261193 ,  0.2807061 ,\n         0.86211205, -0.7273644 ,  1.6579226 ,  1.5075828 ,  0.83343023,\n         0.4331572 , -1.4815437 ]], dtype=float32), 'distance': 2.502246379852295, 'lambda': 0.0005475390625000001, 'index': 7053, 'class': 1, 'proba': array([[0.00991074, 0.9900892 ]], dtype=float32), 'loss': 0.0014683020279927042}, {'X': array([[ 0.16206807, -0.44258603,  1.035181  ,  0.5130134 ,  0.29458237,\n         0.85933125, -0.7223632 ,  1.6802783 ,  1.520123  ,  0.82757366,\n         0.4349055 , -1.4875536 ]], dtype=float32), 'distance': 2.520660877227783, 'lambda': 0.0005475390625000001, 'index': 7054, 'class': 1, 'proba': array([[0.0096488 , 0.99035114]], dtype=float32), 'loss': 0.0014732607832655471}, {'X': array([[ 0.1693302 , -0.44749543,  1.0351436 ,  0.49224722,  0.29993767,\n         0.86479795, -0.7086912 ,  1.6926246 ,  1.540749  ,  0.8143374 ,\n         0.42557237, -1.4769009 ]], dtype=float32), 'distance': 2.5224947929382324, 'lambda': 0.0005475390625000001, 'index': 7055, 'class': 1, 'proba': array([[0.00997455, 0.9900254 ]], dtype=float32), 'loss': 0.0014806570569948464}], 8: [{'X': array([[ 0.08020438, -0.4527117 ,  1.0297302 ,  0.5812628 ,  0.37385583,\n         0.76561105, -0.6689214 ,  1.6981508 ,  1.5264788 ,  0.8076923 ,\n         0.44209054, -1.479941  ]], dtype=float32), 'distance': 2.8131020069122314, 'lambda': 0.00054947265625, 'index': 8002, 'class': 1, 'proba': array([[0.00838954, 0.99161047]], dtype=float32), 'loss': 0.0016161068887174282}, {'X': array([[ 0.12902467, -0.41645956,  1.0527244 ,  0.5362557 ,  0.33559278,\n         0.7996922 , -0.72715425,  1.7290939 ,  1.5083295 ,  0.8244195 ,\n         0.37723592, -1.4859841 ]], dtype=float32), 'distance': 2.805406332015991, 'lambda': 0.00054947265625, 'index': 8003, 'class': 1, 'proba': array([[0.0081513, 0.9918487]], dtype=float32), 'loss': 0.0016079376434394545}, {'X': array([[ 0.188717  , -0.40300944,  1.0516293 ,  0.4768456 ,  0.28446   ,\n         0.8493058 , -0.74726397,  1.7364815 ,  1.514286  ,  0.8160545 ,\n         0.3481143 , -1.4674386 ]], dtype=float32), 'distance': 2.7772300243377686, 'lambda': 0.00054947265625, 'index': 8004, 'class': 1, 'proba': array([[0.00918709, 0.99081296]], dtype=float32), 'loss': 0.0016104137123036492}], 9: [{'X': array([[ 0.07025808, -0.38812438,  1.1156335 ,  0.44287235,  0.3824025 ,\n         0.7990256 , -0.61712956,  1.590566  ,  1.6214674 ,  0.9054684 ,\n         0.52679133, -1.5139873 ]], dtype=float32), 'distance': 3.3373091220855713, 'lambda': 0.0005485058593750001, 'index': 9000, 'class': 1, 'proba': array([[0.00812043, 0.9918795 ]], dtype=float32), 'loss': 0.0018964757579580571}, {'X': array([[ 0.06341862, -0.36458123,  1.1300157 ,  0.46659613,  0.39832008,\n         0.7848197 , -0.6267321 ,  1.6273862 ,  1.6028112 ,  0.9131244 ,\n         0.505435  , -1.4435236 ]], dtype=float32), 'distance': 3.2392306327819824, 'lambda': 0.0005485058593750001, 'index': 9001, 'class': 1, 'proba': array([[0.00855213, 0.9914479 ]], dtype=float32), 'loss': 0.0018498749590447556}, {'X': array([[ 0.0935305 , -0.37451884,  1.110871  ,  0.52136433,  0.378298  ,\n         0.80505085, -0.67036074,  1.6915507 ,  1.5499116 ,  0.8844715 ,\n         0.45309463, -1.3619204 ]], dtype=float32), 'distance': 2.8404741287231445, 'lambda': 0.0005485058593750001, 'index': 9002, 'class': 1, 'proba': array([[0.00984532, 0.9901546 ]], dtype=float32), 'loss': 0.0016549481318787597}, {'X': array([[ 0.08436079, -0.4382196 ,  1.0950425 ,  0.51679957,  0.31930885,\n         0.8803209 , -0.7294399 ,  1.6628993 ,  1.5623963 ,  0.841947  ,\n         0.47111028, -1.4609888 ]], dtype=float32), 'distance': 2.673128843307495, 'lambda': 0.0005485058593750001, 'index': 9010, 'class': 1, 'proba': array([[0.00974369, 0.9902563 ]], dtype=float32), 'loss': 0.0015611663377974767}, {'X': array([[ 0.08462553, -0.43990624,  1.0980864 ,  0.50091136,  0.31708938,\n         0.9072738 , -0.7349437 ,  1.6523296 ,  1.5832833 ,  0.8322513 ,\n         0.4934292 , -1.4931501 ]], dtype=float32), 'distance': 2.7651002407073975, 'lambda': 0.0005485058593750001, 'index': 9011, 'class': 1, 'proba': array([[0.00950329, 0.99049675]], dtype=float32), 'loss': 0.0016069853560398272}, {'X': array([[ 0.09646586, -0.45034108,  1.0909768 ,  0.5020868 ,  0.30406561,\n         0.91489446, -0.7264363 ,  1.663783  ,  1.5849711 ,  0.8113227 ,\n         0.4967861 , -1.5143683 ]], dtype=float32), 'distance': 2.71958589553833, 'lambda': 0.0005485058593750001, 'index': 9012, 'class': 1, 'proba': array([[0.00936358, 0.9906364 ]], dtype=float32), 'loss': 0.001579385647757414}, {'X': array([[ 0.11789212, -0.4684695 ,  1.074515  ,  0.5174896 ,  0.2819774 ,\n         0.90713364, -0.70669603,  1.6611967 ,  1.5722015 ,  0.78134286,\n         0.4840763 , -1.5233488 ]], dtype=float32), 'distance': 2.617527723312378, 'lambda': 0.0005485058593750001, 'index': 9013, 'class': 1, 'proba': array([[0.00970682, 0.99029315]], dtype=float32), 'loss': 0.0015299523238147825}, {'X': array([[ 0.14682303, -0.4932865 ,  1.0501713 ,  0.5193384 ,  0.27721328,\n         0.88610554, -0.7028552 ,  1.6774013 ,  1.5476283 ,  0.7695358 ,\n         0.45848182, -1.5222033 ]], dtype=float32), 'distance': 2.525071382522583, 'lambda': 0.0005485058593750001, 'index': 9014, 'class': 1, 'proba': array([[0.00998281, 0.99001724]], dtype=float32), 'loss': 0.001484672040126949}]}, 'orig_class': 0, 'orig_proba': 0.9370279908180237, 'success': True}\n"
    }
   ],
   "source": [
    "# define model\n",
    "#nn = load_model('nn_boston.h5')\n",
    "predict_fn = lambda x: nn.predict(x)\n",
    "# initialize explainer, fit and generate counterfactual\n",
    "cf = CounterFactual(predict_fn, shape=shape, target_proba=1.0, tol=0.01,\n",
    "                    target_class='other', max_iter=1000, lam_init=1e-1,\n",
    "                    max_lam_steps=10, learning_rate_init=0.1)\n",
    "\n",
    "\n",
    "#cf.fit(x_train)\n",
    "explanation = cf.explain(X)\n",
    "print(explanation)"
   ]
  },
  {
   "cell_type": "markdown",
   "metadata": {},
   "source": [
    "The prediction flipped from 0 (value below the median) to 1 (above the median):"
   ]
  },
  {
   "cell_type": "code",
   "execution_count": 13,
   "metadata": {},
   "outputs": [
    {
     "name": "stdout",
     "output_type": "stream",
     "text": "Original prediction: 0\nCounterfactual prediction: 1\n"
    }
   ],
   "source": [
    "print('Original prediction: {}'.format(explanation['orig_class']))\n",
    "print('Counterfactual prediction: {}'.format(explanation['cf']['class']))"
   ]
  },
  {
   "cell_type": "markdown",
   "metadata": {},
   "source": [
    "Let's take a look at the counterfactual. To make the results more interpretable, we will first undo the pre-processing step and then check where the counterfactual differs from the original instance:"
   ]
  },
  {
   "cell_type": "code",
   "execution_count": 14,
   "metadata": {},
   "outputs": [
    {
     "name": "stdout",
     "output_type": "stream",
     "text": "CRIM: -0.04421987328011312\nZN: 1.0019603565180013\nINDUS: 0.06687389860129045\nNOX: 0.0016002675807592626\nRM: -0.002331675801022115\nAGE: -0.7816179094894125\nDIS: -0.040361733434935765\nRAD: -0.02890238549689883\nTAX: -3.9303862455470835\nPTRATIO: 0.058080826355705995\nB: -0.03003547929159822\nLSTAT: -16.596271655271543\n"
    }
   ],
   "source": [
    "orig = X * sigma + mu\n",
    "counterfactual = explanation['cf']['X'] * sigma + mu\n",
    "delta = counterfactual - orig\n",
    "for i, f in enumerate(feature_names):\n",
    "    if np.abs(delta[0][i]) > 1e-4:\n",
    "        print('{}: {}'.format(f, delta[0][i]))"
   ]
  },
  {
   "cell_type": "markdown",
   "metadata": {},
   "source": [
    "So in order to increase the house price, the proportion of owner-occupied units built prior to 1940 should decrease by ~11-12%. This is not surprising since the proportion for the observation is very high at 93.6%. Furthermore, the % of the population with \"lower status\" should decrease by ~5%."
   ]
  },
  {
   "cell_type": "code",
   "execution_count": 16,
   "metadata": {},
   "outputs": [
    {
     "name": "stdout",
     "output_type": "stream",
     "text": "% owner-occupied units built prior to 1940: 93.6\n% lower status of the population: 18.68\n"
    }
   ],
   "source": [
    "print('% owner-occupied units built prior to 1940: {}'.format(orig[0][5]))\n",
    "print('% lower status of the population: {}'.format(orig[0][11]))"
   ]
  },
  {
   "cell_type": "markdown",
   "metadata": {},
   "source": [
    "Clean up:"
   ]
  },
  {
   "cell_type": "code",
   "execution_count": 16,
   "metadata": {},
   "outputs": [],
   "source": [
    "os.remove('nn_boston.h5')"
   ]
  }
 ],
 "metadata": {
  "kernelspec": {
   "display_name": "Python 3",
   "language": "python",
   "name": "python3"
  },
  "language_info": {
   "codemirror_mode": {
    "name": "ipython",
    "version": 3
   },
   "file_extension": ".py",
   "mimetype": "text/x-python",
   "name": "python",
   "nbconvert_exporter": "python",
   "pygments_lexer": "ipython3",
   "version": "3.7.3"
  }
 },
 "nbformat": 4,
 "nbformat_minor": 2
}