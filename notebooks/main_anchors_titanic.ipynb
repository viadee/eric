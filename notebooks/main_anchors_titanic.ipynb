{
 "cells": [
  {
   "cell_type": "markdown",
   "metadata": {},
   "source": [
    "# Anchor explanations on the Iris dataset"
   ]
  },
  {
   "source": [
    "import numpy as np\n",
    "from sklearn.datasets import load_iris\n",
    "from sklearn.ensemble import RandomForestClassifier\n",
    "from alibi.explainers import AnchorTabular\n",
    "import pandas as pd \n",
    "from sklearn.model_selection import train_test_split\n",
    "from sklearn import svm\n",
    "from sklearn import metrics"
   ],
   "cell_type": "code",
   "outputs": [],
   "metadata": {},
   "execution_count": 1
  },
  {
   "source": [
    "data = pd.read_csv('titanic.csv')\n",
    "data.rename(columns={'Survived': 'class'}, inplace=True)\n",
    "data['Sex'] = data['Sex'].map({'male':0,'female':1})\n",
    "data['Embarked'] = data['Embarked'].map({'S':0,'C':1,'Q':2})\n",
    "data['Relatives'] = data['SibSp'] + data['Parch']\n",
    "\n",
    "data = data.drop(['PassengerId', 'Name','Ticket','Cabin', 'SibSp', 'Parch'], axis=1)\n",
    "data = data.dropna()\n",
    "\n",
    "f = ['Pclass', 'Sex', 'Age', 'Fare', 'Embarked', 'Relatives']\n",
    "\n",
    "features = data.drop('class', axis=1).values\n",
    "training_features, testing_features, training_target, testing_target = \\\n",
    "    train_test_split(features, data['class'].values, random_state=None)"
   ],
   "cell_type": "code",
   "outputs": [],
   "metadata": {},
   "execution_count": 2
  },
  {
   "source": [
    "print(training_features)"
   ],
   "cell_type": "code",
   "outputs": [
    {
     "output_type": "stream",
     "name": "stdout",
     "text": "[[  3.       0.      19.       0.       0.       0.    ]\n [  1.       0.      64.     263.       0.       5.    ]\n [  1.       0.      35.      26.2875   0.       0.    ]\n ...\n [  3.       0.      32.       7.75     2.       0.    ]\n [  3.       0.      28.       7.925    0.       2.    ]\n [  1.       1.      15.     211.3375   0.       1.    ]]\n"
    }
   ],
   "metadata": {},
   "execution_count": 3
  },
  {
   "source": [
    "model = svm.SVC(gamma=0.001, C=100., probability=True)\n",
    "    \n",
    "model.fit(training_features, training_target)\n",
    "certainty = metrics.accuracy_score(testing_target, model.predict(testing_features))\n",
    "print(\"Accuracy:\", certainty)"
   ],
   "cell_type": "code",
   "outputs": [
    {
     "output_type": "stream",
     "name": "stdout",
     "text": "Accuracy: 0.797752808988764\n"
    }
   ],
   "metadata": {},
   "execution_count": 5
  },
  {
   "source": [
    "predict_fn = lambda x: model.predict_proba(x)"
   ],
   "cell_type": "code",
   "outputs": [],
   "metadata": {},
   "execution_count": 6
  },
  {
   "source": [
    "predict_fn(np.array([[3, 0, 47, 7.25, 0, 0]]))"
   ],
   "cell_type": "code",
   "outputs": [
    {
     "output_type": "execute_result",
     "data": {
      "text/plain": "array([[0.79716029, 0.20283971]])"
     },
     "metadata": {},
     "execution_count": 10
    }
   ],
   "metadata": {},
   "execution_count": 10
  },
  {
   "source": [
    "category_map = {0: [\"1\", \"2\", \"3\"], 1: [\"0\",\"1\"], 4: [\"0\", \"1\", \"2\"]}"
   ],
   "cell_type": "code",
   "outputs": [],
   "metadata": {},
   "execution_count": 11
  },
  {
   "cell_type": "markdown",
   "metadata": {},
   "source": [
    "### Initialize and fit anchor explainer for tabular data"
   ]
  },
  {
   "source": [
    "explainer = AnchorTabular(predict_fn, feature_names = f, categorical_names = category_map)"
   ],
   "cell_type": "code",
   "outputs": [],
   "metadata": {},
   "execution_count": 12
  },
  {
   "cell_type": "markdown",
   "metadata": {},
   "source": [
    "Discretize the ordinal features into quartiles"
   ]
  },
  {
   "source": [
    "explainer.fit(training_features, disc_perc=[25, 50, 75])"
   ],
   "cell_type": "code",
   "outputs": [],
   "metadata": {},
   "execution_count": 79
  },
  {
   "cell_type": "markdown",
   "metadata": {},
   "source": [
    "### Getting an anchor\n",
    "\n",
    "Below, we get an anchor for the prediction of the first observation in the test set. An anchor is a sufficient condition - that is, when the anchor holds, the prediction should be the same as the prediction for this instance."
   ]
  },
  {
   "source": [
    "idx = 0\n",
    "#print('Prediction: ', explainer.predict_fn([np.array([3, 0, 50, 10.0, 0, 0])]))\n",
    "print(model.predict_proba(np.array([1, 0, 60, 50, 0, 0]).reshape(1, -1)))\n",
    "#print(testing_features[0])\n",
    "print(np.array([3, 0, 22, 20, 0, 0]))"
   ],
   "cell_type": "code",
   "outputs": [
    {
     "output_type": "stream",
     "name": "stdout",
     "text": "[[0.79364421 0.20635579]]\n[ 3  0 22 20  0  0]\n"
    }
   ],
   "metadata": {},
   "execution_count": 84
  },
  {
   "cell_type": "markdown",
   "metadata": {},
   "source": [
    "We set the precision threshold to 0.95. This means that predictions on observations where the anchor holds will be the same as the prediction on the explained instance at least 95% of the time."
   ]
  },
  {
   "cell_type": "code",
   "execution_count": null,
   "metadata": {},
   "outputs": [],
   "source": []
  },
  {
   "cell_type": "code",
   "execution_count": null,
   "metadata": {},
   "outputs": [],
   "source": []
  },
  {
   "source": [
    "explanation = explainer.explain(np.array([1, 0, 60, 50, 0, 0]), threshold=0.95)\n",
    "print('Anchor: %s' % (' AND '.join(explanation['names'])))\n",
    "print('Precision: %.2f' % explanation['precision'])\n",
    "print('Coverage: %.2f' % explanation['coverage'])"
   ],
   "cell_type": "code",
   "outputs": [
    {
     "output_type": "stream",
     "name": "stderr",
     "text": "Could not find an anchor satisfying the 0.95 precision constraint. Now returning the best non-eligible anchor.\nAnchor: Sex = 0 AND Relatives <= 0.00 AND Embarked = 0\nPrecision: 0.95\nCoverage: 0.35\n"
    }
   ],
   "metadata": {},
   "execution_count": 92
  }
 ],
 "metadata": {
  "kernelspec": {
   "display_name": "Python 3",
   "language": "python",
   "name": "python3"
  },
  "language_info": {
   "codemirror_mode": {
    "name": "ipython",
    "version": 3
   },
   "file_extension": ".py",
   "mimetype": "text/x-python",
   "name": "python",
   "nbconvert_exporter": "python",
   "pygments_lexer": "ipython3",
   "version": "3.7.2-final"
  }
 },
 "nbformat": 4,
 "nbformat_minor": 2
}