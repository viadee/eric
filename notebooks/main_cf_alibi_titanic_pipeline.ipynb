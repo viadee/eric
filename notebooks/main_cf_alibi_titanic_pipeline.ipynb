{
 "cells": [
  {
   "cell_type": "code",
   "execution_count": 1,
   "metadata": {},
   "outputs": [],
   "source": [
    "import numpy as np\n",
    "import os\n",
    "from sklearn.preprocessing import OneHotEncoder\n",
    "from alibi.datasets import fetch_adult\n",
    "from alibi.explainers import CounterFactualProto\n",
    "import pandas as pd \n",
    "import tensorflow as tf\n",
    "from alibi.explainers import CounterFactual\n",
    "from sklearn.ensemble import RandomForestClassifier\n",
    "from sklearn import svm\n",
    "from sklearn.pipeline import Pipeline\n",
    "from sklearn.preprocessing import MinMaxScaler, OneHotEncoder\n",
    "from sklearn.compose import ColumnTransformer\n",
    "from xgboost import XGBClassifier\n",
    "from sklearn.model_selection import train_test_split\n",
    "from sklearn.metrics import accuracy_score"
   ]
  },
  {
   "cell_type": "code",
   "execution_count": 43,
   "metadata": {},
   "outputs": [],
   "source": [
    "data = pd.read_csv('titanic.csv')\n",
    "data.rename(columns={'Survived': 'class'}, inplace=True)\n",
    "data['Sex'] = data['Sex'].map({'male':'Male','female':'Female'})\n",
    "data['Embarked'] = data['Embarked'].map({'S':'Southampton','C':'Cherbourg','Q':'Queenstown'})\n",
    "data['Pclass'] = data['Pclass'].map({1:'First', 2:'Second', 3:'Third'})\n",
    "data['Relatives'] = data['SibSp'] + data['Parch']\n",
    "\n",
    "data = data.drop(['PassengerId', 'Name','Ticket','Cabin', 'SibSp', 'Parch'], axis=1)\n",
    "data = data.dropna()\n",
    "\n",
    "f = ['Pclass', 'Sex', 'Age', 'Fare', 'Embarked', 'Relatives']\n",
    "\n",
    "features = data.drop('class', axis=1)\n",
    "#print(features)\n",
    "\n",
    "training_features, testing_features, training_target, testing_target = \\\n",
    "    train_test_split(features, data['class'].values, random_state=None)"
   ]
  },
  {
   "cell_type": "code",
   "execution_count": 3,
   "metadata": {},
   "outputs": [
    {
     "name": "stdout",
     "output_type": "stream",
     "text": "Pclass   Sex   Age     Fare     Embarked  Relatives\n183  Second  Male   1.0  39.0000  Southampton          3\n231   Third  Male  29.0   7.7750  Southampton          0\n171   Third  Male   4.0  29.1250   Queenstown          5\n422   Third  Male  29.0   7.8750  Southampton          0\n509   Third  Male  26.0  56.4958  Southampton          0\n..      ...   ...   ...      ...          ...        ...\n129   Third  Male  45.0   6.9750  Southampton          0\n370   First  Male  25.0  55.4417    Cherbourg          1\n217  Second  Male  42.0  27.0000  Southampton          1\n386   Third  Male   1.0  46.9000  Southampton          7\n514   Third  Male  24.0   7.4958  Southampton          0\n\n[534 rows x 6 columns]\n"
    }
   ],
   "source": [
    "print(training_features)"
   ]
  },
  {
   "cell_type": "code",
   "execution_count": 4,
   "metadata": {},
   "outputs": [],
   "source": [
    "numeric_features = ['Age', 'Fare', 'Relatives']\n",
    "numeric_transformer = Pipeline(steps=[\n",
    "    ('scaler', MinMaxScaler())])\n",
    "\n",
    "categorical_features = ['Pclass', 'Sex', 'Embarked']\n",
    "categorical_transformer = Pipeline(steps=[\n",
    "    ('onehot', OneHotEncoder(handle_unknown='ignore'))])\n",
    "\n",
    "preprocessor = ColumnTransformer(\n",
    "    transformers=[\n",
    "        ('num', numeric_transformer, numeric_features),\n",
    "        ('cat', categorical_transformer, categorical_features)])"
   ]
  },
  {
   "cell_type": "code",
   "execution_count": 5,
   "metadata": {},
   "outputs": [],
   "source": [
    "model = Pipeline(steps=[('preprocessor', preprocessor),\n",
    "('classifier', XGBClassifier())])\n"
   ]
  },
  {
   "cell_type": "code",
   "execution_count": 6,
   "metadata": {},
   "outputs": [
    {
     "data": {
      "text/plain": "Pipeline(memory=None,\n         steps=[('preprocessor',\n                 ColumnTransformer(n_jobs=None, remainder='drop',\n                                   sparse_threshold=0.3,\n                                   transformer_weights=None,\n                                   transformers=[('num',\n                                                  Pipeline(memory=None,\n                                                           steps=[('scaler',\n                                                                   MinMaxScaler(copy=True,\n                                                                                feature_range=(0,\n                                                                                               1)))],\n                                                           verbose=False),\n                                                  ['Age', 'Fare', 'Relatives']),\n                                                 ('cat',\n                                                  Pipeline(memory=None,\n                                                           steps=[('onehot',\n                                                                   OneHotEncoder(catego...\n                 XGBClassifier(base_score=0.5, booster='gbtree',\n                               colsample_bylevel=1, colsample_bynode=1,\n                               colsample_bytree=1, gamma=0, learning_rate=0.1,\n                               max_delta_step=0, max_depth=3,\n                               min_child_weight=1, missing=None,\n                               n_estimators=100, n_jobs=1, nthread=None,\n                               objective='binary:logistic', random_state=0,\n                               reg_alpha=0, reg_lambda=1, scale_pos_weight=1,\n                               seed=None, silent=None, subsample=1,\n                               verbosity=1))],\n         verbose=False)"
     },
     "execution_count": 6,
     "metadata": {},
     "output_type": "execute_result"
    }
   ],
   "source": [
    "model.fit(training_features, training_target)"
   ]
  },
  {
   "cell_type": "code",
   "execution_count": 7,
   "metadata": {},
   "outputs": [
    {
     "name": "stdout",
     "output_type": "stream",
     "text": "XGB 0.7921348314606742\n"
    }
   ],
   "source": [
    "print(\"XGB {}\".format(accuracy_score(testing_target, model.predict(testing_features))))"
   ]
  },
  {
   "cell_type": "code",
   "execution_count": 8,
   "metadata": {},
   "outputs": [
    {
     "name": "stdout",
     "output_type": "stream",
     "text": "Pclass   Sex Age  Fare     Embarked Relatives\n0  Third  Male  47  7.25  Southampton         0\n[0.9598487 0.0401513]\n0\n"
    }
   ],
   "source": [
    "record = {'Pclass': 'Third', 'Sex': 'Male', 'Age': '47', 'Fare': '7.25', 'Embarked': 'Southampton', 'Relatives': '0'}\n",
    "print(pd.DataFrame([record]))\n",
    "prediction = model.predict_proba(pd.DataFrame([record]))[0]\n",
    "print(prediction)\n",
    "print(np.where(prediction == np.amax(prediction))[0][0])"
   ]
  },
  {
   "cell_type": "code",
   "execution_count": 9,
   "metadata": {},
   "outputs": [],
   "source": [
    "#print(model.predict_proba([np.array([3, 'Male', 47, 7.25, 'Southampton', 0])]))"
   ]
  },
  {
   "cell_type": "code",
   "execution_count": 9,
   "metadata": {},
   "outputs": [],
   "source": [
    "predict_fn = lambda x: model['classifier'].predict_proba(x)"
   ]
  },
  {
   "cell_type": "code",
   "execution_count": 10,
   "metadata": {},
   "outputs": [
    {
     "name": "stdout",
     "output_type": "stream",
     "text": "[[0.97625226 0.02374776]]\n[[0.975354   0.02464599]]\n"
    }
   ],
   "source": [
    "print(predict_fn(np.array([[1.30669356, 0.000000, 0.000000, 0.00, 0.00, 1.0, 0.0, 1.0, 0.0, 0.0, 1.0]])))\n",
    "print(model.predict_proba(pd.DataFrame([{'Pclass': 'Third', 'Sex': 'Male', 'Age': 47.0, 'Fare': 0.0000, 'Embarked': 'Southampton', 'Relatives': 0}])))"
   ]
  },
  {
   "cell_type": "code",
   "execution_count": 28,
   "metadata": {},
   "outputs": [
    {
     "name": "stdout",
     "output_type": "stream",
     "text": "[[0.12038201 0.0195187  0.         1.         0.         0.\n  0.         1.         0.         0.         1.        ]]\n"
    }
   ],
   "source": [
    "test = (model['preprocessor'].transform(pd.DataFrame([{'Pclass': 'First', 'Sex': 'Male', 'Age': '10.0', 'Fare': '10.0000', 'Embarked': 'Southampton', 'Relatives': 0}])))\n",
    "#print(pd.DataFrame(data=test))\n",
    "#print(model['classifier'].predict_proba(test))\n",
    "print(test)"
   ]
  },
  {
   "cell_type": "code",
   "execution_count": 30,
   "metadata": {},
   "outputs": [
    {
     "name": "stdout",
     "output_type": "stream",
     "text": "{3: 3, 6: 2, 8: 3}\n"
    }
   ],
   "source": [
    "cat_vars = {}\n",
    "start = 3 #number of continuous features\n",
    "for f in ['Pclass', 'Sex', 'Embarked']:\n",
    "    numbers_features = len(np.unique(training_features[f]))\n",
    "    cat_vars[start] = numbers_features\n",
    "    start = start + numbers_features\n",
    "print(cat_vars)\n"
   ]
  },
  {
   "cell_type": "code",
   "execution_count": 45,
   "metadata": {},
   "outputs": [
    {
     "data": {
      "text/plain": "array([[1., 1., 1., 1., 1., 1.]])"
     },
     "execution_count": 45,
     "metadata": {},
     "output_type": "execute_result"
    }
   ],
   "source": [
    "np.zeros((1,len(f)))\n",
    "np.ones((1,len(f)))\n"
   ]
  },
  {
   "cell_type": "code",
   "execution_count": 46,
   "metadata": {},
   "outputs": [],
   "source": [
    "cf = CounterFactualProto(predict_fn,\n",
    "                         (1,11),\n",
    "                         beta=0.01,\n",
    "                         cat_vars=cat_vars,\n",
    "                         ohe=True,\n",
    "                         max_iterations=1000,\n",
    "                         feature_range= (np.zeros((1,len(f))), np.ones((1,len(f)))),\n",
    "                         #feature_range= (np.array([[-1, -1, -1, -1, -1, -1]]), np.array([[1, 1, 1, 1, 1, 1]])),\n",
    "                         c_init=1.,\n",
    "                         c_steps=5,\n",
    "                         eps=(.01, .01)  # perturbation size for numerical gradients\n",
    "                        )"
   ]
  },
  {
   "cell_type": "code",
   "execution_count": 15,
   "metadata": {},
   "outputs": [
    {
     "name": "stdout",
     "output_type": "stream",
     "text": "[[0.00728826 0.07612293 0.42857143 ... 0.         0.         1.        ]\n [0.35913546 0.01517579 0.         ... 0.         0.         1.        ]\n [0.04498618 0.05684821 0.71428571 ... 0.         1.         0.        ]\n ...\n [0.52249309 0.05270049 0.14285714 ... 0.         0.         1.        ]\n [0.00728826 0.0915427  1.         ... 0.         0.         1.        ]\n [0.2963056  0.01463083 0.         ... 0.         0.         1.        ]]\n"
    }
   ],
   "source": [
    "print(model['preprocessor'].transform(training_features))"
   ]
  },
  {
   "cell_type": "code",
   "execution_count": 26,
   "metadata": {},
   "outputs": [],
   "source": [
    "cf.fit(model['preprocessor'].transform(training_features), d_type='abdm', disc_perc=[25, 50, 75])"
   ]
  },
  {
   "cell_type": "code",
   "execution_count": 27,
   "metadata": {},
   "outputs": [],
   "source": [
    "explanation = cf.explain(test, target_class=[0])"
   ]
  },
  {
   "cell_type": "code",
   "execution_count": 29,
   "metadata": {},
   "outputs": [
    {
     "name": "stdout",
     "output_type": "stream",
     "text": "None\n"
    }
   ],
   "source": [
    "print(explanation['cf'])"
   ]
  },
  {
   "cell_type": "code",
   "execution_count": 16,
   "metadata": {},
   "outputs": [
    {
     "name": "stdout",
     "output_type": "stream",
     "text": "[[0.28084832 0.7191517 ]]\n[[0.12038201 0.0195187  0.         1.         0.         0.\n  0.         1.         0.         0.         1.        ]]\n"
    }
   ],
   "source": [
    "print(predict_fn(np.array([[0.30887157, 0.        , 0.        , 0.        , 0.        ,\n",
    "        1.        , 1.        , 0.        , 0.        , 0.        ,\n",
    "        1.        ]])))\n",
    "print(test)"
   ]
  },
  {
   "cell_type": "code",
   "execution_count": 17,
   "metadata": {},
   "outputs": [
    {
     "name": "stdout",
     "output_type": "stream",
     "text": "[[0.16006179 0.0195187  0.         1.         0.         0.\n  0.         1.         0.         0.         1.        ]]\n"
    }
   ],
   "source": [
    "x = explanation['cf']['X']\n",
    "print(x)"
   ]
  },
  {
   "cell_type": "code",
   "execution_count": 18,
   "metadata": {},
   "outputs": [
    {
     "name": "stdout",
     "output_type": "stream",
     "text": "[['Third' 'Male' 'Southampton']\n ['Third' 'Male' 'Southampton']\n ['Second' 'Female' 'Southampton']\n ...\n ['Second' 'Male' 'Southampton']\n ['First' 'Female' 'Cherbourg']\n ['Second' 'Female' 'Cherbourg']]\n"
    }
   ],
   "source": [
    "one_hot_training = training_features[['Pclass', 'Sex', 'Embarked']].to_numpy()\n",
    "print(one_hot_training)"
   ]
  },
  {
   "cell_type": "code",
   "execution_count": 19,
   "metadata": {},
   "outputs": [],
   "source": [
    "one = OneHotEncoder(handle_unknown='ignore')"
   ]
  },
  {
   "cell_type": "code",
   "execution_count": 20,
   "metadata": {},
   "outputs": [
    {
     "data": {
      "text/plain": "OneHotEncoder(categorical_features=None, categories=None, drop=None,\n              dtype=<class 'numpy.float64'>, handle_unknown='ignore',\n              n_values=None, sparse=True)"
     },
     "execution_count": 20,
     "metadata": {},
     "output_type": "execute_result"
    }
   ],
   "source": [
    "one.fit(one_hot_training)"
   ]
  },
  {
   "cell_type": "code",
   "execution_count": 21,
   "metadata": {},
   "outputs": [
    {
     "name": "stdout",
     "output_type": "stream",
     "text": "[[0. 0. 1. 0. 1. 0. 0. 1.]]\n"
    }
   ],
   "source": [
    "print(one.transform([np.array(one_hot_training[0])]).toarray())"
   ]
  },
  {
   "cell_type": "code",
   "execution_count": 22,
   "metadata": {},
   "outputs": [
    {
     "name": "stdout",
     "output_type": "stream",
     "text": "[['Third' 'Female' 'Southampton']]\n"
    }
   ],
   "source": [
    "print(one.inverse_transform([[0., 0., 1., 1., 0., 0., 0., 1.]]))"
   ]
  },
  {
   "cell_type": "code",
   "execution_count": 23,
   "metadata": {},
   "outputs": [
    {
     "name": "stdout",
     "output_type": "stream",
     "text": "[['First' 'Male' 'Southampton']]\n"
    }
   ],
   "source": [
    "print(one.inverse_transform([explanation['cf']['X'][0][3:]]))"
   ]
  },
  {
   "cell_type": "code",
   "execution_count": 24,
   "metadata": {},
   "outputs": [
    {
     "name": "stdout",
     "output_type": "stream",
     "text": "[26.      8.6625  2.    ]\n"
    }
   ],
   "source": [
    "scaler_training = training_features[['Age', 'Fare', 'Relatives']].to_numpy()\n",
    "print(scaler_training[0])"
   ]
  },
  {
   "cell_type": "code",
   "execution_count": 25,
   "metadata": {},
   "outputs": [
    {
     "data": {
      "text/plain": "MinMaxScaler(copy=True, feature_range=(0, 1))"
     },
     "execution_count": 25,
     "metadata": {},
     "output_type": "execute_result"
    }
   ],
   "source": [
    "scaler = MinMaxScaler()\n",
    "scaler.fit(scaler_training)"
   ]
  },
  {
   "cell_type": "code",
   "execution_count": 26,
   "metadata": {},
   "outputs": [
    {
     "name": "stdout",
     "output_type": "stream",
     "text": "[[0.32143755 0.01690807 0.28571429]]\n"
    }
   ],
   "source": [
    "print(scaler.transform([np.array(scaler_training[0])]))"
   ]
  },
  {
   "cell_type": "code",
   "execution_count": 27,
   "metadata": {},
   "outputs": [
    {
     "name": "stdout",
     "output_type": "stream",
     "text": "[[13.15771737  9.9999997   0.        ]]\n"
    }
   ],
   "source": [
    "print(scaler.inverse_transform([explanation['cf']['X'][0][0:3]]))"
   ]
  },
  {
   "cell_type": "code",
   "execution_count": 28,
   "metadata": {},
   "outputs": [
    {
     "name": "stdout",
     "output_type": "stream",
     "text": "[0.16006179 0.0195187  0.        ]\n"
    }
   ],
   "source": [
    "print(explanation['cf']['X'][0][0:3])"
   ]
  },
  {
   "cell_type": "code",
   "execution_count": null,
   "metadata": {},
   "outputs": [],
   "source": []
  }
 ],
 "metadata": {
  "kernelspec": {
   "display_name": "Python 3",
   "language": "python",
   "name": "python3"
  },
  "language_info": {
   "codemirror_mode": {
    "name": "ipython",
    "version": 3
   },
   "file_extension": ".py",
   "mimetype": "text/x-python",
   "name": "python",
   "nbconvert_exporter": "python",
   "pygments_lexer": "ipython3",
   "version": "3.7.2-final"
  }
 },
 "nbformat": 4,
 "nbformat_minor": 2
}